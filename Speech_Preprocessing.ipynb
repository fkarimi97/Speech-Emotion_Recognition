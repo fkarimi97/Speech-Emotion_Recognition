{
 "cells": [
  {
   "cell_type": "code",
   "execution_count": 13,
   "id": "8b75b939",
   "metadata": {},
   "outputs": [],
   "source": [
    "import wave\n",
    "import numpy as np\n",
    "import librosa as lb\n",
    "import librosa.display\n",
    "from scipy.signal import butter, filtfilt\n",
    "import os\n",
    "import matplotlib.pyplot as plt"
   ]
  },
  {
   "cell_type": "code",
   "execution_count": 2,
   "id": "9c771413",
   "metadata": {},
   "outputs": [
    {
     "data": {
      "text/plain": [
       "48000"
      ]
     },
     "execution_count": 2,
     "metadata": {},
     "output_type": "execute_result"
    }
   ],
   "source": [
    "sample_data_path = 'E:\\Datasets/barbie_vs_puppy/barbie/barbie_4.wav'\n",
    "\n",
    "with wave.open(sample_data_path) as wave_file:\n",
    "    frame_rate = wave_file.getframerate()\n",
    "frame_rate"
   ]
  },
  {
   "cell_type": "markdown",
   "id": "ad98810c",
   "metadata": {},
   "source": [
    "#### Resampling\n",
    "##### - adjusting the number of samples per second while preserving the original content’s perceptual characteristics"
   ]
  },
  {
   "cell_type": "code",
   "execution_count": 3,
   "id": "7c999376",
   "metadata": {},
   "outputs": [
    {
     "name": "stdout",
     "output_type": "stream",
     "text": [
      "sample rate after resampling: 16000\n"
     ]
    }
   ],
   "source": [
    "def resample_audio(audio_path, target_sr = 16000):\n",
    "    y, sr = lb.load(audio_path, sr = target_sr)\n",
    "    return y, sr\n",
    "resampled_audio, sr = resample_audio(sample_data_path)\n",
    "print(f\"sample rate after resampling: {sr}\")"
   ]
  },
  {
   "cell_type": "markdown",
   "id": "527e2870",
   "metadata": {},
   "source": [
    "#### Filtering\n",
    "##### - to modify the frequency content of an audio signal by attenuating or emphasizing certain frequency components\n",
    "##### - (butter_lowpass_filter) to remove the background noises"
   ]
  },
  {
   "cell_type": "code",
   "execution_count": 4,
   "id": "7640fd16",
   "metadata": {},
   "outputs": [
    {
     "name": "stdout",
     "output_type": "stream",
     "text": [
      "filtered audio shape: (31403,)\n"
     ]
    }
   ],
   "source": [
    "def ButterLowPass_filter (data, cutoff_freq, sample_rate, order = 4):\n",
    "    nyquist = 0.5 * sample_rate\n",
    "    normal_cutoff = cutoff_freq / nyquist\n",
    "    b, a = butter(order, normal_cutoff, btype = 'low', analog = False)\n",
    "    filtered_data = filtfilt(b, a, data)\n",
    "    print(f\"filtered audio shape: {filtered_data.shape}\")\n",
    "    return filtered_data\n",
    "filtered_audio = ButterLowPass_filter(resampled_audio, cutoff_freq = 4000, sample_rate = sr)"
   ]
  },
  {
   "cell_type": "markdown",
   "id": "0ac42308",
   "metadata": {},
   "source": [
    "#### Convert to the model's expected input "
   ]
  },
  {
   "cell_type": "code",
   "execution_count": 5,
   "id": "2ac5d562",
   "metadata": {},
   "outputs": [
    {
     "name": "stdout",
     "output_type": "stream",
     "text": [
      "Input shape: (16000,)\n"
     ]
    }
   ],
   "source": [
    "def convert_input(y, target_length):\n",
    "    if len(y) < target_length:\n",
    "        y = np.pad(y, (0,target_length - len(y)))\n",
    "    else:\n",
    "        y = y[:target_length]\n",
    "    return y\n",
    "model_inp = convert_input (filtered_audio, target_length = 16000)\n",
    "print(f\"Input shape: {model_inp.shape}\")"
   ]
  },
  {
   "cell_type": "markdown",
   "id": "193d98a2",
   "metadata": {},
   "source": [
    "#### Streaming \n",
    "##### - streaming allows the model to process data in chunks or batches which facilitates efficient memory usage and enables the model to handle datasets that may not fit entirely into memory"
   ]
  },
  {
   "cell_type": "code",
   "execution_count": 10,
   "id": "24e319af",
   "metadata": {},
   "outputs": [
    {
     "name": "stdout",
     "output_type": "stream",
     "text": [
      "filtered audio shape: (26966,)\n",
      "filtered audio shape: (36864,)\n",
      "filtered audio shape: (37547,)\n",
      "filtered audio shape: (51542,)\n",
      "filtered audio shape: (24918,)\n",
      "Processing batch with 5 files\n",
      "Shape of the first file: (16000,)\n",
      "filtered audio shape: (49280,)\n",
      "filtered audio shape: (31360,)\n",
      "filtered audio shape: (23520,)\n",
      "filtered audio shape: (36182,)\n",
      "filtered audio shape: (30720,)\n",
      "Processing batch with 5 files\n",
      "Shape of the first file: (16000,)\n",
      "filtered audio shape: (39200,)\n",
      "filtered audio shape: (38571,)\n",
      "filtered audio shape: (36088,)\n",
      "filtered audio shape: (29365,)\n",
      "filtered audio shape: (30379,)\n",
      "Processing batch with 5 files\n",
      "Shape of the first file: (16000,)\n",
      "filtered audio shape: (31403,)\n",
      "filtered audio shape: (88406,)\n",
      "filtered audio shape: (38080,)\n",
      "filtered audio shape: (26966,)\n",
      "filtered audio shape: (25600,)\n",
      "Processing batch with 5 files\n",
      "Shape of the first file: (16000,)\n",
      "filtered audio shape: (33792,)\n",
      "filtered audio shape: (33792,)\n",
      "filtered audio shape: (23520,)\n",
      "filtered audio shape: (27596,)\n",
      "filtered audio shape: (40619,)\n",
      "Processing batch with 5 files\n",
      "Shape of the first file: (16000,)\n",
      "filtered audio shape: (30720,)\n",
      "filtered audio shape: (32768,)\n",
      "filtered audio shape: (57686,)\n",
      "filtered audio shape: (36178,)\n",
      "filtered audio shape: (28480,)\n",
      "Processing batch with 5 files\n",
      "Shape of the first file: (16000,)\n",
      "filtered audio shape: (31403,)\n",
      "filtered audio shape: (24640,)\n",
      "filtered audio shape: (24333,)\n",
      "filtered audio shape: (29014,)\n",
      "filtered audio shape: (27021,)\n",
      "Processing batch with 5 files\n",
      "Shape of the first file: (16000,)\n",
      "filtered audio shape: (26624,)\n",
      "filtered audio shape: (53760,)\n",
      "filtered audio shape: (42560,)\n",
      "filtered audio shape: (23520,)\n",
      "filtered audio shape: (31137,)\n",
      "Processing batch with 5 files\n",
      "Shape of the first file: (16000,)\n",
      "filtered audio shape: (24640,)\n",
      "filtered audio shape: (40278,)\n",
      "filtered audio shape: (31542,)\n",
      "filtered audio shape: (31403,)\n",
      "filtered audio shape: (42560,)\n",
      "Processing batch with 5 files\n",
      "Shape of the first file: (16000,)\n",
      "filtered audio shape: (26624,)\n",
      "filtered audio shape: (44715,)\n",
      "filtered audio shape: (17920,)\n",
      "filtered audio shape: (37547,)\n",
      "filtered audio shape: (26913,)\n",
      "Processing batch with 5 files\n",
      "Shape of the first file: (16000,)\n"
     ]
    }
   ],
   "source": [
    "def stream_audio_dataset(dataset_path, batch_size=32, target_length=16000, target_sr=None):\n",
    "    # Get all audio file paths in the dataset path\n",
    "    audio_files = [os.path.join(root, file) for root, dirs, files in os.walk(dataset_path) for file in files]\n",
    "\n",
    "    # Shuffle the audio files for randomness\n",
    "    np.random.shuffle(audio_files)\n",
    "\n",
    "    # Yield batches of audio data\n",
    "    for i in range(0, len(audio_files), batch_size):\n",
    "        batch_paths = audio_files[i:i + batch_size]\n",
    "        batch_data = []\n",
    "\n",
    "        for file_path in batch_paths:\n",
    "            # Load and preprocess each audio file\n",
    "            y, sr = lb.load(file_path, sr=target_sr)\n",
    "\n",
    "            # Resampling\n",
    "            if target_sr is not None and sr != target_sr:\n",
    "                y = lb.resample(y, sr, target_sr)\n",
    "                sr = target_sr\n",
    "\n",
    "            filtered_audio = ButterLowPass_filter(y, cutoff_freq=4000, sample_rate=sr)\n",
    "            model_input = convert_input(filtered_audio, target_length=target_length)\n",
    "            batch_data.append(model_input)\n",
    "\n",
    "        yield np.array(batch_data)\n",
    "\n",
    "# Load the dataset folder\n",
    "dataset_path = 'E:\\Datasets/barbie_vs_puppy/barbie/'\n",
    "\n",
    "for batch_data in stream_audio_dataset(dataset_path, batch_size=5, target_sr=16000):\n",
    "    # Process each batch of audio data\n",
    "    print(f\"Processing batch with {len(batch_data)} files\")\n",
    "\n",
    "    # Print the shape of the first file in the batch\n",
    "    print(f\"Shape of the first file: {batch_data[0].shape}\")\n"
   ]
  },
  {
   "cell_type": "markdown",
   "id": "2b90456a",
   "metadata": {},
   "source": [
    "#### Log Mel-Spectrogram"
   ]
  },
  {
   "cell_type": "code",
   "execution_count": 14,
   "id": "162291f3",
   "metadata": {},
   "outputs": [
    {
     "data": {
      "image/png": "[encoded data removed]",
      "text/plain": [
       "<Figure size 576x288 with 2 Axes>"
      ]
     },
     "metadata": {
      "needs_background": "light"
     },
     "output_type": "display_data"
    }
   ],
   "source": [
    "# visualizing log-mel spectrogram\n",
    "def compute_logmel_spectrogram(y, sr, n_mels=128, hop_length=512):\n",
    "    mel_spectrogram = lb.feature.melspectrogram(y=y, sr=sr, n_mels=n_mels, hop_length=hop_length)\n",
    "    logmel_spectrogram = lb.power_to_db(mel_spectrogram, ref=np.max)\n",
    "    return logmel_spectrogram\n",
    " \n",
    "# load the audio file\n",
    "audio_file_path = 'E:\\Datasets/barbie_vs_puppy/barbie/barbie_4.wav'\n",
    "target_sr = 16000\n",
    " \n",
    "# Load the audio file\n",
    "y, sr = lb.load(audio_file_path, sr=target_sr)\n",
    " \n",
    "# Compute log-mel spectrogram\n",
    "logmel_spectrogram = compute_logmel_spectrogram(y, sr=sr)\n",
    " \n",
    "# Display the log-mel spectrogram\n",
    "plt.figure(figsize=(8, 4))\n",
    "librosa.display.specshow(logmel_spectrogram, sr=sr, hop_length=512, x_axis='time', y_axis='mel')\n",
    "plt.colorbar(format='%+2.0f dB')\n",
    "plt.title('Log-Mel Spectrogram')\n",
    "plt.show()"
   ]
  },
  {
   "cell_type": "markdown",
   "id": "88215957",
   "metadata": {},
   "source": [
    "#### Framing"
   ]
  },
  {
   "cell_type": "code",
   "execution_count": 33,
   "id": "8169ce4f",
   "metadata": {},
   "outputs": [
    {
     "data": {
      "text/plain": [
       "(194, 400)"
      ]
     },
     "execution_count": 33,
     "metadata": {},
     "output_type": "execute_result"
    }
   ],
   "source": [
    "# load the audio file\n",
    "audio_file_path = 'E:\\Datasets/barbie_vs_puppy/barbie/barbie_4.wav'\n",
    "target_sr = 16000\n",
    " \n",
    "# Load the audio file\n",
    "x, sr = lb.load(audio_file_path, sr=target_sr)\n",
    "frames = lb.util.frame(x, frame_length=400, hop_length=160)\n",
    "xt = np.transpose(frames)\n",
    "xt.shape"
   ]
  },
  {
   "cell_type": "markdown",
   "id": "403bf720",
   "metadata": {},
   "source": [
    "Energy"
   ]
  },
  {
   "cell_type": "code",
   "execution_count": 34,
   "id": "d5d1c45d",
   "metadata": {},
   "outputs": [
    {
     "name": "stdout",
     "output_type": "stream",
     "text": [
      "frame_energy: (194,)\n",
      "0.012502779006958007\n"
     ]
    },
    {
     "data": {
      "text/plain": [
       "4"
      ]
     },
     "execution_count": 34,
     "metadata": {},
     "output_type": "execute_result"
    }
   ],
   "source": [
    "frame_energy = np.sum(xt**2, axis =1)\n",
    "print(f\"frame_energy: {frame_energy.shape}\")\n",
    "energy_thr = 0.001*np.max(frame_energy)\n",
    "print(energy_thr)\n",
    "# finding the none-silence index\n",
    "nonSilenceIndex = np.argmax(frame_energy > energy_thr)\n",
    "nonSilenceIndex"
   ]
  },
  {
   "cell_type": "code",
   "execution_count": 35,
   "id": "89829c91",
   "metadata": {},
   "outputs": [
    {
     "name": "stdout",
     "output_type": "stream",
     "text": [
      "2\n",
      "xt shape:(192, 400)\n",
      "y\n"
     ]
    }
   ],
   "source": [
    "# finding the first none-zero index \n",
    "fnz_idx = np.any(xt, axis=(1)).argmax()\n",
    "print(fnz_idx)\n",
    "xt_trunc = xt[fnz_idx:,:]\n",
    "print(f\"xt shape:{xt_trunc.shape}\")\n",
    "if fnz_idx != 0:\n",
    "    print(\"y\")\n",
    "else:\n",
    "    print(\"N\")"
   ]
  },
  {
   "cell_type": "markdown",
   "id": "94b47949",
   "metadata": {},
   "source": [
    "#### Length and Duration"
   ]
  },
  {
   "cell_type": "code",
   "execution_count": 17,
   "id": "331ae2fe",
   "metadata": {},
   "outputs": [],
   "source": [
    "# finding the length and duration of samples\n",
    "audio_lengths =[]\n",
    "audio_durations =[]\n",
    "myPath = 'E:\\Datasets/barbie_vs_puppy/'\n",
    "for roots, dirs, files in os.walk(myPath):\n",
    "    for file in files:\n",
    "        if file.endswith('.wav'):\n",
    "            file_path = os.path.join(roots,file)\n",
    "            signal, sr = lb.load(file_path, sr=None)\n",
    "            # lengths\n",
    "            length = len(signal)\n",
    "            audio_lengths.append(length)\n",
    "            # durations\n",
    "            duration = lb.get_duration(y = signal, sr = sr)\n",
    "            audio_durations.append(duration)"
   ]
  },
  {
   "cell_type": "code",
   "execution_count": 18,
   "id": "9e7b7222",
   "metadata": {},
   "outputs": [
    {
     "name": "stdout",
     "output_type": "stream",
     "text": [
      "duration: 5.525333333333333 seconds\n",
      "length: 265216\n"
     ]
    }
   ],
   "source": [
    "# maximum values\n",
    "max_length = max(audio_lengths)\n",
    "max_duration = max(audio_durations)\n",
    "print(f\"duration: {max_duration} seconds\")\n",
    "print(f\"length: {max_length}\")"
   ]
  },
  {
   "cell_type": "code",
   "execution_count": 19,
   "id": "61d36949",
   "metadata": {},
   "outputs": [
    {
     "name": "stdout",
     "output_type": "stream",
     "text": [
      "duration: 1.12\n",
      "length: 53760\n"
     ]
    }
   ],
   "source": [
    "# min values\n",
    "min_length = min(audio_lengths)\n",
    "min_duration = min(audio_durations)\n",
    "print(f\"duration: {min_duration}\")\n",
    "print(f\"length: {min_length}\")"
   ]
  },
  {
   "cell_type": "markdown",
   "id": "9ad3e89c",
   "metadata": {},
   "source": [
    "#### MFCC\n",
    "##### MFCC feature extraction with framing"
   ]
  },
  {
   "cell_type": "code",
   "execution_count": 22,
   "id": "b913b4f3",
   "metadata": {},
   "outputs": [],
   "source": [
    "def MFCC_featureExtraction(file_path):\n",
    "    \n",
    "    ## load the audio file\n",
    "    x, sample_rate = lb.load(file_path, res_type='kaiser_fast')\n",
    "   \n",
    "    ## extract mffcs\n",
    "    \n",
    "    frames = lb.util.frame(x, frame_length=400, hop_length=160)\n",
    "    xt = np.transpose(frames)\n",
    "    #print(xt.shape)\n",
    "    \n",
    "    #num_frames = []\n",
    "    #num_frames.append(xt[:,1]) \n",
    "    #print(num_frames)\n",
    "    mfccs = lb.feature.mfcc(y=xt, sr=sample_rate, n_mfcc = 13)\n",
    "\n",
    "   \n",
    "    ## normalize mfccs\n",
    "    \n",
    "    mfccs_norm = (mfccs-mfccs.mean())/mfccs.std()\n",
    "    #mfccs_norm = np.mean(mfccs.T, axis = 0)\n",
    "    print(f\" mfcc shape: {mfccs_norm.shape}\")\n",
    "    return mfccs_norm"
   ]
  },
  {
   "cell_type": "code",
   "execution_count": 24,
   "id": "eff47263",
   "metadata": {},
   "outputs": [
    {
     "name": "stderr",
     "output_type": "stream",
     "text": [
      "C:\\Users\\Farnoush\\anaconda3\\lib\\site-packages\\librosa\\util\\decorators.py:88: UserWarning: n_fft=2048 is too small for input signal of length=400\n",
      "  return f(*args, **kwargs)\n"
     ]
    },
    {
     "name": "stdout",
     "output_type": "stream",
     "text": [
      " mfcc shape: (461, 13, 1)\n",
      " mfcc shape: (365, 13, 1)\n",
      " mfcc shape: (330, 13, 1)\n",
      " mfcc shape: (321, 13, 1)\n",
      " mfcc shape: (268, 13, 1)\n",
      " mfcc shape: (201, 13, 1)\n",
      " mfcc shape: (289, 13, 1)\n",
      " mfcc shape: (336, 13, 1)\n",
      " mfcc shape: (365, 13, 1)\n",
      " mfcc shape: (422, 13, 1)\n",
      " mfcc shape: (210, 13, 1)\n",
      " mfcc shape: (268, 13, 1)\n",
      " mfcc shape: (219, 13, 1)\n",
      " mfcc shape: (152, 13, 1)\n",
      " mfcc shape: (201, 13, 1)\n",
      " mfcc shape: (236, 13, 1)\n",
      " mfcc shape: (268, 13, 1)\n",
      " mfcc shape: (309, 13, 1)\n",
      " mfcc shape: (310, 13, 1)\n",
      " mfcc shape: (251, 13, 1)\n",
      " mfcc shape: (270, 13, 1)\n",
      " mfcc shape: (310, 13, 1)\n",
      " mfcc shape: (243, 13, 1)\n",
      " mfcc shape: (227, 13, 1)\n",
      " mfcc shape: (230, 13, 1)\n",
      " mfcc shape: (266, 13, 1)\n",
      " mfcc shape: (231, 13, 1)\n",
      " mfcc shape: (208, 13, 1)\n",
      " mfcc shape: (201, 13, 1)\n",
      " mfcc shape: (263, 13, 1)\n",
      " mfcc shape: (345, 13, 1)\n",
      " mfcc shape: (321, 13, 1)\n",
      " mfcc shape: (230, 13, 1)\n",
      " mfcc shape: (213, 13, 1)\n",
      " mfcc shape: (268, 13, 1)\n",
      " mfcc shape: (348, 13, 1)\n",
      " mfcc shape: (280, 13, 1)\n",
      " mfcc shape: (230, 13, 1)\n",
      " mfcc shape: (442, 13, 1)\n",
      " mfcc shape: (289, 13, 1)\n",
      " mfcc shape: (248, 13, 1)\n",
      " mfcc shape: (316, 13, 1)\n",
      " mfcc shape: (326, 13, 1)\n",
      " mfcc shape: (759, 13, 1)\n",
      " mfcc shape: (263, 13, 1)\n",
      " mfcc shape: (495, 13, 1)\n",
      " mfcc shape: (383, 13, 1)\n",
      " mfcc shape: (227, 13, 1)\n",
      " mfcc shape: (210, 13, 1)\n",
      " mfcc shape: (260, 13, 1)\n",
      " mfcc shape: (370, 13, 1)\n",
      " mfcc shape: (300, 13, 1)\n",
      " mfcc shape: (227, 13, 1)\n",
      " mfcc shape: (230, 13, 1)\n",
      " mfcc shape: (336, 13, 1)\n",
      " mfcc shape: (198, 13, 1)\n",
      " mfcc shape: (389, 13, 1)\n",
      " mfcc shape: (263, 13, 1)\n",
      " mfcc shape: (227, 13, 1)\n",
      " mfcc shape: (227, 13, 1)\n",
      " mfcc shape: (219, 13, 1)\n",
      " mfcc shape: (304, 13, 1)\n",
      " mfcc shape: (274, 13, 1)\n",
      " mfcc shape: (324, 13, 1)\n",
      " mfcc shape: (304, 13, 1)\n",
      " mfcc shape: (174, 13, 1)\n",
      " mfcc shape: (229, 13, 1)\n",
      " mfcc shape: (257, 13, 1)\n",
      " mfcc shape: (210, 13, 1)\n",
      " mfcc shape: (191, 13, 1)\n",
      " mfcc shape: (413, 13, 1)\n",
      " mfcc shape: (465, 13, 1)\n",
      " mfcc shape: (174, 13, 1)\n",
      " mfcc shape: (324, 13, 1)\n",
      " mfcc shape: (202, 13, 1)\n",
      " mfcc shape: (158, 13, 1)\n",
      " mfcc shape: (263, 13, 1)\n",
      " mfcc shape: (191, 13, 1)\n",
      " mfcc shape: (284, 13, 1)\n",
      " mfcc shape: (318, 13, 1)\n",
      " mfcc shape: (213, 13, 1)\n",
      " mfcc shape: (158, 13, 1)\n",
      " mfcc shape: (233, 13, 1)\n",
      " mfcc shape: (389, 13, 1)\n",
      " mfcc shape: (257, 13, 1)\n",
      " mfcc shape: (271, 13, 1)\n",
      " mfcc shape: (295, 13, 1)\n",
      " mfcc shape: (292, 13, 1)\n",
      " mfcc shape: (268, 13, 1)\n",
      " mfcc shape: (334, 13, 1)\n",
      " mfcc shape: (295, 13, 1)\n",
      " mfcc shape: (287, 13, 1)\n",
      " mfcc shape: (267, 13, 1)\n",
      " mfcc shape: (246, 13, 1)\n",
      " mfcc shape: (374, 13, 1)\n",
      " mfcc shape: (363, 13, 1)\n",
      " mfcc shape: (266, 13, 1)\n",
      " mfcc shape: (289, 13, 1)\n"
     ]
    }
   ],
   "source": [
    "features = {}\n",
    "for roots, dirs, files in os.walk(myPath):\n",
    "    for fName in files:\n",
    "        file_path = os.path.join(roots,fName)\n",
    "        Name = fName.split('.')[0] # name without extension\n",
    "        #fileNames.append(Name)\n",
    "        #print(\"new command:\",file_path.split('/')[-1].split('.')[0])\n",
    "        features[fName] = MFCC_featureExtraction(file_path)"
   ]
  },
  {
   "cell_type": "markdown",
   "id": "82ce112d",
   "metadata": {},
   "source": [
    "#### Zero padding"
   ]
  },
  {
   "cell_type": "code",
   "execution_count": 28,
   "id": "ce6d5381",
   "metadata": {},
   "outputs": [
    {
     "data": {
      "text/plain": [
       "(194, 400)"
      ]
     },
     "execution_count": 28,
     "metadata": {},
     "output_type": "execute_result"
    }
   ],
   "source": [
    "# Load the audio file\n",
    "x, sr = lb.load(audio_file_path, sr=target_sr)\n",
    "frames = lb.util.frame(x, frame_length=400, hop_length=160)\n",
    "xt = np.transpose(frames)\n",
    "xt.shape"
   ]
  },
  {
   "cell_type": "code",
   "execution_count": 32,
   "id": "5ddba387",
   "metadata": {},
   "outputs": [
    {
     "name": "stdout",
     "output_type": "stream",
     "text": [
      "mfccs: (194, 13, 1)\n",
      "padded mfcc: (1000, 13, 1)\n"
     ]
    }
   ],
   "source": [
    "target = 1000\n",
    "mfccs = lb.feature.mfcc(y=xt, sr=sr, n_mfcc = 13)\n",
    "print(f\"mfccs: {mfccs.shape}\")\n",
    "pad_width = target - mfccs.shape[0]\n",
    "if pad_width > 0:\n",
    "        mfccs_norm1 = np.pad(mfccs, pad_width=((0,pad_width),(0,0),(0,0)), mode = 'constant')\n",
    "        print(\"padded mfcc:\", mfccs_norm1.shape)        \n",
    "elif pad_width <= 0:\n",
    "        mfccs_norm1 = mfccs[0:target,:,:]\n",
    "        print(\"padded mfcc:\", mfccs_norm1)      "
   ]
  },
  {
   "cell_type": "code",
   "execution_count": null,
   "id": "3db8e7e6",
   "metadata": {},
   "outputs": [],
   "source": []
  }
 ],
 "metadata": {
  "kernelspec": {
   "display_name": "Python 3",
   "language": "python",
   "name": "python3"
  },
  "language_info": {
   "codemirror_mode": {
    "name": "ipython",
    "version": 3
   },
   "file_extension": ".py",
   "mimetype": "text/x-python",
   "name": "python",
   "nbconvert_exporter": "python",
   "pygments_lexer": "ipython3",
   "version": "3.8.8"
  }
 },
 "nbformat": 4,
 "nbformat_minor": 5
}
