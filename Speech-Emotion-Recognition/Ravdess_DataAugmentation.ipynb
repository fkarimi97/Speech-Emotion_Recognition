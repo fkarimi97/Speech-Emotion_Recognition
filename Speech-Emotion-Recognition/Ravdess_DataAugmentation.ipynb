{
 "cells": [
  {
   "cell_type": "code",
   "execution_count": 25,
   "id": "0cd3819a",
   "metadata": {},
   "outputs": [],
   "source": [
    "import librosa\n",
    "import librosa.display\n",
    "import numpy as np\n",
    "import matplotlib.pyplot as plt\n",
    "import tensorflow as tf\n",
    "from sklearn.model_selection import GridSearchCV\n",
    "#from keras.wrappers.scikit_learn import KerasClassifier\n",
    "from matplotlib.pyplot import specgram\n",
    "import pandas as pd\n",
    "from sklearn.metrics import confusion_matrix\n",
    "import IPython.display as ipd  # To play sound in the notebook\n",
    "from IPython.display import Audio\n",
    "import os # interface with underlying OS that python is running on\n",
    "import sys\n",
    "import warnings\n",
    "# ignore warnings \n",
    "if not sys.warnoptions:\n",
    "    warnings.simplefilter(\"ignore\")\n",
    "warnings.filterwarnings(\"ignore\", category=DeprecationWarning)\n",
    "from sklearn.model_selection import train_test_split\n",
    "from sklearn.preprocessing import LabelEncoder\n",
    "from tensorflow import keras\n",
    "from tensorflow.keras.optimizers import SGD\n",
    "from tensorflow.keras.models import Sequential, Model, model_from_json\n",
    "from tensorflow.keras.layers import Conv1D, MaxPooling1D, AveragePooling1D\n",
    "from tensorflow.keras.layers import Input, Flatten, Dropout, Activation, BatchNormalization\n",
    "from tensorflow.keras.layers import Dense, Embedding, LSTM\n",
    "from tensorflow.keras.regularizers import l2\n",
    "from tensorflow.keras.constraints import max_norm\n",
    "from tensorflow.keras.callbacks import EarlyStopping, ModelCheckpoint\n",
    "import seaborn as sns\n",
    "from tensorflow.keras.utils import to_categorical\n",
    "from tensorflow.keras import layers, models, Model, optimizers"
   ]
  },
  {
   "cell_type": "code",
   "execution_count": 26,
   "id": "14d30287",
   "metadata": {},
   "outputs": [],
   "source": [
    "# READ IN AUDIO FILES \n",
    "audio = \"E:\\Datasets\\RAVDESS/audio_speech_actors_01-24/\""
   ]
  },
  {
   "cell_type": "code",
   "execution_count": 38,
   "id": "b08ffe40",
   "metadata": {},
   "outputs": [
    {
     "data": {
      "text/html": [
       "<div>\n",
       "<style scoped>\n",
       "    .dataframe tbody tr th:only-of-type {\n",
       "        vertical-align: middle;\n",
       "    }\n",
       "\n",
       "    .dataframe tbody tr th {\n",
       "        vertical-align: top;\n",
       "    }\n",
       "\n",
       "    .dataframe thead th {\n",
       "        text-align: right;\n",
       "    }\n",
       "</style>\n",
       "<table border=\"1\" class=\"dataframe\">\n",
       "  <thead>\n",
       "    <tr style=\"text-align: right;\">\n",
       "      <th></th>\n",
       "      <th>gender</th>\n",
       "      <th>emotion</th>\n",
       "      <th>actor</th>\n",
       "      <th>path</th>\n",
       "    </tr>\n",
       "  </thead>\n",
       "  <tbody>\n",
       "    <tr>\n",
       "      <th>0</th>\n",
       "      <td>male</td>\n",
       "      <td>neutral</td>\n",
       "      <td>1</td>\n",
       "      <td>E:\\Datasets\\RAVDESS/audio_speech_actors_01-24/...</td>\n",
       "    </tr>\n",
       "    <tr>\n",
       "      <th>1</th>\n",
       "      <td>male</td>\n",
       "      <td>neutral</td>\n",
       "      <td>1</td>\n",
       "      <td>E:\\Datasets\\RAVDESS/audio_speech_actors_01-24/...</td>\n",
       "    </tr>\n",
       "    <tr>\n",
       "      <th>2</th>\n",
       "      <td>male</td>\n",
       "      <td>neutral</td>\n",
       "      <td>1</td>\n",
       "      <td>E:\\Datasets\\RAVDESS/audio_speech_actors_01-24/...</td>\n",
       "    </tr>\n",
       "    <tr>\n",
       "      <th>3</th>\n",
       "      <td>male</td>\n",
       "      <td>neutral</td>\n",
       "      <td>1</td>\n",
       "      <td>E:\\Datasets\\RAVDESS/audio_speech_actors_01-24/...</td>\n",
       "    </tr>\n",
       "    <tr>\n",
       "      <th>4</th>\n",
       "      <td>male</td>\n",
       "      <td>calm</td>\n",
       "      <td>1</td>\n",
       "      <td>E:\\Datasets\\RAVDESS/audio_speech_actors_01-24/...</td>\n",
       "    </tr>\n",
       "  </tbody>\n",
       "</table>\n",
       "</div>"
      ],
      "text/plain": [
       "  gender  emotion  actor                                               path\n",
       "0   male  neutral      1  E:\\Datasets\\RAVDESS/audio_speech_actors_01-24/...\n",
       "1   male  neutral      1  E:\\Datasets\\RAVDESS/audio_speech_actors_01-24/...\n",
       "2   male  neutral      1  E:\\Datasets\\RAVDESS/audio_speech_actors_01-24/...\n",
       "3   male  neutral      1  E:\\Datasets\\RAVDESS/audio_speech_actors_01-24/...\n",
       "4   male     calm      1  E:\\Datasets\\RAVDESS/audio_speech_actors_01-24/..."
      ]
     },
     "execution_count": 38,
     "metadata": {},
     "output_type": "execute_result"
    }
   ],
   "source": [
    "# READ IN CSV FILE FROM EDA_PREPROCESSING\n",
    "audio_df = pd.read_csv('ravdess.csv',usecols=['emotion','path','gender','actor'])\n",
    "audio_df.head()"
   ]
  },
  {
   "cell_type": "code",
   "execution_count": 39,
   "id": "1d065dea",
   "metadata": {},
   "outputs": [],
   "source": [
    "# TRAIN TEST SPLIT DATA\n",
    "train,test = train_test_split(audio_df, test_size=0.2, random_state=0,\n",
    "                               stratify=audio_df[['emotion','gender','actor']])"
   ]
  },
  {
   "cell_type": "code",
   "execution_count": 40,
   "id": "2961e8e5",
   "metadata": {},
   "outputs": [
    {
     "name": "stdout",
     "output_type": "stream",
     "text": [
      "(1152, 1)\n"
     ]
    }
   ],
   "source": [
    "X_train = train.iloc[:, 3:]\n",
    "y_train = train.iloc[:,:2].drop(columns=['gender'])\n",
    "print(X_train.shape)"
   ]
  },
  {
   "cell_type": "code",
   "execution_count": 41,
   "id": "55394476",
   "metadata": {},
   "outputs": [],
   "source": [
    "# FUNCTION TO ADD WHITE NOISE\n",
    "def noise(x):\n",
    "    noise_amp = 0.05*np.random.uniform()*np.amax(x)   \n",
    "    x = x.astype('float64') + noise_amp * np.random.normal(size=x.shape[0])\n",
    "    return x"
   ]
  },
  {
   "cell_type": "code",
   "execution_count": 42,
   "id": "6a629f4e",
   "metadata": {},
   "outputs": [
    {
     "data": {
      "image/png": "[encoded data removed]",
      "text/plain": [
       "<Figure size 720x360 with 1 Axes>"
      ]
     },
     "metadata": {
      "needs_background": "light"
     },
     "output_type": "display_data"
    }
   ],
   "source": [
    "# MALE SAD ORIGINAL AUDIO FILE\n",
    "fname = audio + 'Actor_09/03-01-04-02-02-02-09.wav'  \n",
    "x, sr = librosa.load(fname)\n",
    "plt.figure(figsize=(10, 5))\n",
    "librosa.display.waveplot(x, sr=sr)\n",
    "plt.title('Waveplot - Male Sad')\n",
    "plt.savefig('Waveplot_MaleSad.png')"
   ]
  },
  {
   "cell_type": "code",
   "execution_count": 43,
   "id": "ba1340a7",
   "metadata": {},
   "outputs": [
    {
     "data": {
      "image/png": "[encoded data removed]",
      "text/plain": [
       "<Figure size 720x360 with 1 Axes>"
      ]
     },
     "metadata": {
      "needs_background": "light"
     },
     "output_type": "display_data"
    }
   ],
   "source": [
    "# ADD NOISE TO MALE SAD ORIGINAL AUDIO FILE\n",
    "x = noise(x)\n",
    "plt.figure(figsize=(10, 5))\n",
    "librosa.display.waveplot(x, sr=sr)\n",
    "plt.title('Waveplot - Noise Male Sad')\n",
    "plt.savefig('Waveplot_MaleSadNoise.png')"
   ]
  },
  {
   "cell_type": "code",
   "execution_count": 44,
   "id": "0e19e4b6",
   "metadata": {},
   "outputs": [],
   "source": [
    "# FUNCTION TO STRETCH THE SOUND\n",
    "def stretch(x, rate=0.8):\n",
    "    data = librosa.effects.time_stretch(x, rate)\n",
    "    return data"
   ]
  },
  {
   "cell_type": "code",
   "execution_count": 45,
   "id": "b0a12424",
   "metadata": {},
   "outputs": [
    {
     "data": {
      "image/png": "[encoded data removed]",
      "text/plain": [
       "<Figure size 720x360 with 1 Axes>"
      ]
     },
     "metadata": {
      "needs_background": "light"
     },
     "output_type": "display_data"
    }
   ],
   "source": [
    "# ADD STRETCH TO MALE SAD ORIGINAL AUDIO FILE\n",
    "x = stretch(x)\n",
    "plt.figure(figsize=(10, 5))\n",
    "librosa.display.waveplot(x, sr=sr)\n",
    "plt.title('Waveplot - Stretch Male Sad')\n",
    "plt.savefig('Waveplot_MaleSadStretch.png')"
   ]
  },
  {
   "cell_type": "code",
   "execution_count": 46,
   "id": "639bd3ae",
   "metadata": {},
   "outputs": [],
   "source": [
    "# FUNCTION TO INCREASE SPEED AND PITCH \n",
    "def speedNpitch(x):\n",
    "    length_change = np.random.uniform(low=0.8, high = 1)\n",
    "    speed_fac = 1.4  / length_change \n",
    "    tmp = np.interp(np.arange(0,len(x),speed_fac),np.arange(0,len(x)),x)\n",
    "    minlen = min(x.shape[0], tmp.shape[0])\n",
    "    x *= 0\n",
    "    x[0:minlen] = tmp[0:minlen]\n",
    "    return x"
   ]
  },
  {
   "cell_type": "code",
   "execution_count": 47,
   "id": "913d06da",
   "metadata": {},
   "outputs": [
    {
     "data": {
      "image/png": "[encoded data removed]",
      "text/plain": [
       "<Figure size 720x360 with 1 Axes>"
      ]
     },
     "metadata": {
      "needs_background": "light"
     },
     "output_type": "display_data"
    }
   ],
   "source": [
    "# ADD SPEED AND PITCH TO MALE SAD ORIGINAL AUDIO FILE\n",
    "x = speedNpitch(x)\n",
    "plt.figure(figsize=(10, 5))\n",
    "librosa.display.waveplot(x, sr=sr)\n",
    "plt.title('Waveplot - Speed and Pitch Male Sad')\n",
    "plt.savefig('Waveplot_MaleSadSpeedPitch.png')"
   ]
  },
  {
   "cell_type": "code",
   "execution_count": 48,
   "id": "249e71e1",
   "metadata": {},
   "outputs": [
    {
     "name": "stdout",
     "output_type": "stream",
     "text": [
      "1152\n"
     ]
    },
    {
     "data": {
      "text/html": [
       "<div>\n",
       "<style scoped>\n",
       "    .dataframe tbody tr th:only-of-type {\n",
       "        vertical-align: middle;\n",
       "    }\n",
       "\n",
       "    .dataframe tbody tr th {\n",
       "        vertical-align: top;\n",
       "    }\n",
       "\n",
       "    .dataframe thead th {\n",
       "        text-align: right;\n",
       "    }\n",
       "</style>\n",
       "<table border=\"1\" class=\"dataframe\">\n",
       "  <thead>\n",
       "    <tr style=\"text-align: right;\">\n",
       "      <th></th>\n",
       "      <th>log_spec</th>\n",
       "    </tr>\n",
       "  </thead>\n",
       "  <tbody>\n",
       "    <tr>\n",
       "      <th>0</th>\n",
       "      <td>[-52.010284, -52.010284, -52.010284, -52.01028...</td>\n",
       "    </tr>\n",
       "    <tr>\n",
       "      <th>1</th>\n",
       "      <td>[-67.44706, -67.421036, -67.53507, -67.25538, ...</td>\n",
       "    </tr>\n",
       "    <tr>\n",
       "      <th>2</th>\n",
       "      <td>[-68.620384, -68.49013, -68.54058, -68.60243, ...</td>\n",
       "    </tr>\n",
       "    <tr>\n",
       "      <th>3</th>\n",
       "      <td>[-45.19984, -43.82312, -44.344078, -45.735817,...</td>\n",
       "    </tr>\n",
       "    <tr>\n",
       "      <th>4</th>\n",
       "      <td>[-60.652348, -60.72612, -60.604263, -60.55492,...</td>\n",
       "    </tr>\n",
       "  </tbody>\n",
       "</table>\n",
       "</div>"
      ],
      "text/plain": [
       "                                            log_spec\n",
       "0  [-52.010284, -52.010284, -52.010284, -52.01028...\n",
       "1  [-67.44706, -67.421036, -67.53507, -67.25538, ...\n",
       "2  [-68.620384, -68.49013, -68.54058, -68.60243, ...\n",
       "3  [-45.19984, -43.82312, -44.344078, -45.735817,...\n",
       "4  [-60.652348, -60.72612, -60.604263, -60.55492,..."
      ]
     },
     "execution_count": 48,
     "metadata": {},
     "output_type": "execute_result"
    }
   ],
   "source": [
    "# FEATURE EXTRACTION ON RAW AUDIO FILES\n",
    "df = pd.DataFrame(columns=['log_spec'])\n",
    "counter=0\n",
    "\n",
    "for index,path in enumerate(train.path):\n",
    "    #get wave representation\n",
    "    X, sample_rate = librosa.load(path, res_type='kaiser_fast',duration=3,sr=44100,offset=0.5)\n",
    "    \n",
    "    #get the mel-scaled spectrogram (ransform both the y-axis (frequency) to log scale, and the “color” axis (amplitude) to Decibels, which is kinda the log scale of amplitudes.)\n",
    "    spectrogram = librosa.feature.melspectrogram(y=X, sr=sample_rate, n_mels=128,fmax=8000) \n",
    "    db_spec = librosa.power_to_db(spectrogram)\n",
    "    #temporally average spectrogram\n",
    "    log_spectrogram = np.mean(db_spec, axis = 0)\n",
    "    df.loc[counter] = [log_spectrogram]   \n",
    "    counter += 1\n",
    "print(len(df))\n",
    "df.head()"
   ]
  },
  {
   "cell_type": "code",
   "execution_count": 49,
   "id": "e81446ca",
   "metadata": {},
   "outputs": [
    {
     "name": "stdout",
     "output_type": "stream",
     "text": [
      "1152\n"
     ]
    },
    {
     "data": {
      "text/html": [
       "<div>\n",
       "<style scoped>\n",
       "    .dataframe tbody tr th:only-of-type {\n",
       "        vertical-align: middle;\n",
       "    }\n",
       "\n",
       "    .dataframe tbody tr th {\n",
       "        vertical-align: top;\n",
       "    }\n",
       "\n",
       "    .dataframe thead th {\n",
       "        text-align: right;\n",
       "    }\n",
       "</style>\n",
       "<table border=\"1\" class=\"dataframe\">\n",
       "  <thead>\n",
       "    <tr style=\"text-align: right;\">\n",
       "      <th></th>\n",
       "      <th>feature</th>\n",
       "    </tr>\n",
       "  </thead>\n",
       "  <tbody>\n",
       "    <tr>\n",
       "      <th>0</th>\n",
       "      <td>[-52.010284, -52.010284, -52.010284, -52.01028...</td>\n",
       "    </tr>\n",
       "    <tr>\n",
       "      <th>1</th>\n",
       "      <td>[-67.44706, -67.421036, -67.53507, -67.25538, ...</td>\n",
       "    </tr>\n",
       "    <tr>\n",
       "      <th>2</th>\n",
       "      <td>[-68.620384, -68.49013, -68.54058, -68.60243, ...</td>\n",
       "    </tr>\n",
       "    <tr>\n",
       "      <th>3</th>\n",
       "      <td>[-45.19984, -43.82312, -44.344078, -45.735817,...</td>\n",
       "    </tr>\n",
       "    <tr>\n",
       "      <th>4</th>\n",
       "      <td>[-60.652348, -60.72612, -60.604263, -60.55492,...</td>\n",
       "    </tr>\n",
       "  </tbody>\n",
       "</table>\n",
       "</div>"
      ],
      "text/plain": [
       "                                             feature\n",
       "0  [-52.010284, -52.010284, -52.010284, -52.01028...\n",
       "1  [-67.44706, -67.421036, -67.53507, -67.25538, ...\n",
       "2  [-68.620384, -68.49013, -68.54058, -68.60243, ...\n",
       "3  [-45.19984, -43.82312, -44.344078, -45.735817,...\n",
       "4  [-60.652348, -60.72612, -60.604263, -60.55492,..."
      ]
     },
     "execution_count": 49,
     "metadata": {},
     "output_type": "execute_result"
    }
   ],
   "source": [
    "# ADD NOISE AND USE FEATURE EXTRACTION\n",
    "df_noise = pd.DataFrame(columns=['feature'])\n",
    "counter=0\n",
    "for index,path in enumerate(train.path):\n",
    "    X, sample_rate = librosa.load(path, res_type='kaiser_fast',duration=3,sr=44100,offset=0.5)\n",
    "        # noise \n",
    "    aug = noise(X)\n",
    "    aug = librosa.feature.melspectrogram(y=X, sr=sample_rate, n_mels=128,fmax=8000)\n",
    "    db_spec = librosa.power_to_db(aug)\n",
    "    aug=np.mean(db_spec,axis=0)\n",
    "    df_noise.loc[counter] = [aug]\n",
    "    counter +=1\n",
    "print(len(df_noise))\n",
    "df_noise.head()"
   ]
  },
  {
   "cell_type": "code",
   "execution_count": 50,
   "id": "454b29e2",
   "metadata": {},
   "outputs": [
    {
     "name": "stdout",
     "output_type": "stream",
     "text": [
      "1152\n"
     ]
    },
    {
     "data": {
      "text/html": [
       "<div>\n",
       "<style scoped>\n",
       "    .dataframe tbody tr th:only-of-type {\n",
       "        vertical-align: middle;\n",
       "    }\n",
       "\n",
       "    .dataframe tbody tr th {\n",
       "        vertical-align: top;\n",
       "    }\n",
       "\n",
       "    .dataframe thead th {\n",
       "        text-align: right;\n",
       "    }\n",
       "</style>\n",
       "<table border=\"1\" class=\"dataframe\">\n",
       "  <thead>\n",
       "    <tr style=\"text-align: right;\">\n",
       "      <th></th>\n",
       "      <th>feature</th>\n",
       "    </tr>\n",
       "  </thead>\n",
       "  <tbody>\n",
       "    <tr>\n",
       "      <th>0</th>\n",
       "      <td>[-54.842808, -54.842808, -54.842808, -54.84280...</td>\n",
       "    </tr>\n",
       "    <tr>\n",
       "      <th>1</th>\n",
       "      <td>[-68.91656, -69.007545, -68.73131, -68.72158, ...</td>\n",
       "    </tr>\n",
       "    <tr>\n",
       "      <th>2</th>\n",
       "      <td>[-69.38673, -69.39867, -69.57351, -69.71819, -...</td>\n",
       "    </tr>\n",
       "    <tr>\n",
       "      <th>3</th>\n",
       "      <td>[-47.32301, -46.75488, -48.497635, -48.10561, ...</td>\n",
       "    </tr>\n",
       "    <tr>\n",
       "      <th>4</th>\n",
       "      <td>[-60.81163, -60.674088, -60.697956, -60.7531, ...</td>\n",
       "    </tr>\n",
       "  </tbody>\n",
       "</table>\n",
       "</div>"
      ],
      "text/plain": [
       "                                             feature\n",
       "0  [-54.842808, -54.842808, -54.842808, -54.84280...\n",
       "1  [-68.91656, -69.007545, -68.73131, -68.72158, ...\n",
       "2  [-69.38673, -69.39867, -69.57351, -69.71819, -...\n",
       "3  [-47.32301, -46.75488, -48.497635, -48.10561, ...\n",
       "4  [-60.81163, -60.674088, -60.697956, -60.7531, ..."
      ]
     },
     "execution_count": 50,
     "metadata": {},
     "output_type": "execute_result"
    }
   ],
   "source": [
    "# ADD SPEED AND PITCH THEN USE FEATURE EXTRACTION\n",
    "df_speedpitch = pd.DataFrame(columns=['feature'])\n",
    "counter=0\n",
    "for index,path in enumerate(train.path):\n",
    "    #get wave representation\n",
    "    X, sample_rate = librosa.load(path, res_type='kaiser_fast',duration=3,sr=44100,offset=0.5)\n",
    "        # speed pitch\n",
    "    aug = speedNpitch(X)\n",
    "    aug = librosa.feature.melspectrogram(y=X, sr=sample_rate, n_mels=128,fmax=8000)\n",
    "    db_spec = librosa.power_to_db(aug)\n",
    "    aug=np.mean(db_spec,axis=0)\n",
    "    df_speedpitch.loc[counter] = [aug] \n",
    "    counter +=1\n",
    "print(len(df_speedpitch))\n",
    "df_speedpitch.head()"
   ]
  },
  {
   "cell_type": "code",
   "execution_count": 51,
   "id": "08910ccc",
   "metadata": {},
   "outputs": [
    {
     "name": "stdout",
     "output_type": "stream",
     "text": [
      "1152\n"
     ]
    }
   ],
   "source": [
    "# ADD STRETCH AND USE FEATURE EXTRACTION ON AUDIO FILES\n",
    "df_stretch=pd.DataFrame(columns=['feature'])\n",
    "counter=0\n",
    "for index,path in enumerate(train.path):\n",
    "    #get wave representation\n",
    "    X, sample_rate = librosa.load(path, res_type='kaiser_fast',duration=3,sr=44100,offset=0.5)\n",
    "        # stretch\n",
    "    aug= stretch(X)\n",
    "    aug = librosa.feature.melspectrogram(y=X, sr=sample_rate, n_mels=128,fmax=8000)\n",
    "    db_spec = librosa.power_to_db(aug)\n",
    "    aug=np.mean(db_spec,axis=0)\n",
    "    df_stretch.loc[counter] = [aug] \n",
    "    counter +=1\n",
    "print(len(df_stretch))"
   ]
  },
  {
   "cell_type": "code",
   "execution_count": 52,
   "id": "c5b1eb8d",
   "metadata": {},
   "outputs": [
    {
     "data": {
      "text/plain": [
       "0          angry\n",
       "1       surprise\n",
       "2       surprise\n",
       "3       surprise\n",
       "4       surprise\n",
       "          ...   \n",
       "1147       angry\n",
       "1148         sad\n",
       "1149         sad\n",
       "1150        calm\n",
       "1151        fear\n",
       "Name: emotion, Length: 1152, dtype: object"
      ]
     },
     "execution_count": 52,
     "metadata": {},
     "output_type": "execute_result"
    }
   ],
   "source": [
    "# EXTRACT EMOTION LABELS FROM TRAIN\n",
    "labels = train.emotion\n",
    "labels.reset_index(drop=True, inplace=True)\n",
    "labels"
   ]
  },
  {
   "cell_type": "code",
   "execution_count": 53,
   "id": "f4643bab",
   "metadata": {},
   "outputs": [],
   "source": [
    "# ADD CORRESPONDING EMOTION LABELS TO DF['LOG_SPEC']\n",
    "mfcc_df = pd.DataFrame(df['log_spec'].values.tolist())\n",
    "mfcc = pd.concat([mfcc_df,labels], axis=1,ignore_index=True)\n",
    "mfcc = mfcc.rename(index=str, columns={259: \"emotion\"})"
   ]
  },
  {
   "cell_type": "code",
   "execution_count": 54,
   "id": "3ddced33",
   "metadata": {},
   "outputs": [],
   "source": [
    "# ADD CORRESPONDING EMOTION LABELS TO DF_NOISE['FEATURE']\n",
    "noise_df = pd.DataFrame(df_noise['feature'].values.tolist())\n",
    "noise = pd.concat([noise_df,labels], axis=1)\n",
    "noise = noise.rename(index=str, columns={259: \"label\"})"
   ]
  },
  {
   "cell_type": "code",
   "execution_count": 55,
   "id": "9f47cc0f",
   "metadata": {},
   "outputs": [],
   "source": [
    "# ADD CORRESPONDING EMOTION LABELS TO DF_SPEEDPITCH['FEATURE']\n",
    "speedpitch_df = pd.DataFrame(df_speedpitch['feature'].values.tolist())\n",
    "speedpitch = pd.concat([speedpitch_df,labels], axis=1)\n",
    "speedpitch = speedpitch.rename(index=str, columns={259: \"label\"})"
   ]
  },
  {
   "cell_type": "code",
   "execution_count": 56,
   "id": "d5179af8",
   "metadata": {},
   "outputs": [],
   "source": [
    "# ADD CORRESPONDING EMOTION LABELS TO DF_STRETCH['FEATURE']\n",
    "stretch_df = pd.DataFrame(df_stretch['feature'].values.tolist())\n",
    "stretch = pd.concat([stretch_df,labels], axis=1)\n",
    "stretch = stretch.rename(index=str, columns={259: \"label\"})"
   ]
  },
  {
   "cell_type": "code",
   "execution_count": 57,
   "id": "bfed920d",
   "metadata": {},
   "outputs": [
    {
     "data": {
      "text/html": [
       "<div>\n",
       "<style scoped>\n",
       "    .dataframe tbody tr th:only-of-type {\n",
       "        vertical-align: middle;\n",
       "    }\n",
       "\n",
       "    .dataframe tbody tr th {\n",
       "        vertical-align: top;\n",
       "    }\n",
       "\n",
       "    .dataframe thead th {\n",
       "        text-align: right;\n",
       "    }\n",
       "</style>\n",
       "<table border=\"1\" class=\"dataframe\">\n",
       "  <thead>\n",
       "    <tr style=\"text-align: right;\">\n",
       "      <th></th>\n",
       "      <th>0</th>\n",
       "      <th>1</th>\n",
       "      <th>2</th>\n",
       "      <th>3</th>\n",
       "      <th>4</th>\n",
       "      <th>5</th>\n",
       "      <th>6</th>\n",
       "      <th>7</th>\n",
       "      <th>8</th>\n",
       "      <th>9</th>\n",
       "      <th>...</th>\n",
       "      <th>250</th>\n",
       "      <th>251</th>\n",
       "      <th>252</th>\n",
       "      <th>253</th>\n",
       "      <th>254</th>\n",
       "      <th>255</th>\n",
       "      <th>256</th>\n",
       "      <th>257</th>\n",
       "      <th>258</th>\n",
       "      <th>emotion</th>\n",
       "    </tr>\n",
       "  </thead>\n",
       "  <tbody>\n",
       "    <tr>\n",
       "      <th>4603</th>\n",
       "      <td>-55.350864</td>\n",
       "      <td>-54.635700</td>\n",
       "      <td>-54.561180</td>\n",
       "      <td>-55.446121</td>\n",
       "      <td>-55.953434</td>\n",
       "      <td>-56.111580</td>\n",
       "      <td>-56.143040</td>\n",
       "      <td>-56.143040</td>\n",
       "      <td>-56.092976</td>\n",
       "      <td>-56.070923</td>\n",
       "      <td>...</td>\n",
       "      <td>-55.757290</td>\n",
       "      <td>-55.860142</td>\n",
       "      <td>-55.975815</td>\n",
       "      <td>-55.939114</td>\n",
       "      <td>-56.025181</td>\n",
       "      <td>-55.984623</td>\n",
       "      <td>-56.052174</td>\n",
       "      <td>-56.140205</td>\n",
       "      <td>-56.143040</td>\n",
       "      <td>angry</td>\n",
       "    </tr>\n",
       "    <tr>\n",
       "      <th>4604</th>\n",
       "      <td>-67.904999</td>\n",
       "      <td>-67.943665</td>\n",
       "      <td>-68.031281</td>\n",
       "      <td>-67.961525</td>\n",
       "      <td>-67.885712</td>\n",
       "      <td>-68.044617</td>\n",
       "      <td>-68.102264</td>\n",
       "      <td>-68.009331</td>\n",
       "      <td>-67.908081</td>\n",
       "      <td>-67.852127</td>\n",
       "      <td>...</td>\n",
       "      <td>-67.771706</td>\n",
       "      <td>-67.718842</td>\n",
       "      <td>-67.534889</td>\n",
       "      <td>-67.411179</td>\n",
       "      <td>-67.642990</td>\n",
       "      <td>-67.714569</td>\n",
       "      <td>-67.876793</td>\n",
       "      <td>-67.729774</td>\n",
       "      <td>-67.574707</td>\n",
       "      <td>sad</td>\n",
       "    </tr>\n",
       "    <tr>\n",
       "      <th>4605</th>\n",
       "      <td>-76.469704</td>\n",
       "      <td>-76.469704</td>\n",
       "      <td>-76.469704</td>\n",
       "      <td>-76.469704</td>\n",
       "      <td>-76.469704</td>\n",
       "      <td>-76.051636</td>\n",
       "      <td>-76.397690</td>\n",
       "      <td>-76.469704</td>\n",
       "      <td>-76.469704</td>\n",
       "      <td>-76.469704</td>\n",
       "      <td>...</td>\n",
       "      <td>-76.464203</td>\n",
       "      <td>-76.469704</td>\n",
       "      <td>-76.469704</td>\n",
       "      <td>-76.469704</td>\n",
       "      <td>-76.469704</td>\n",
       "      <td>-76.469704</td>\n",
       "      <td>-76.469704</td>\n",
       "      <td>-76.469704</td>\n",
       "      <td>-76.469704</td>\n",
       "      <td>sad</td>\n",
       "    </tr>\n",
       "    <tr>\n",
       "      <th>4606</th>\n",
       "      <td>-82.734825</td>\n",
       "      <td>-79.602737</td>\n",
       "      <td>-77.126938</td>\n",
       "      <td>-76.456169</td>\n",
       "      <td>-77.006424</td>\n",
       "      <td>-76.750793</td>\n",
       "      <td>-76.038513</td>\n",
       "      <td>-75.667809</td>\n",
       "      <td>-75.560844</td>\n",
       "      <td>-76.109756</td>\n",
       "      <td>...</td>\n",
       "      <td>0.000000</td>\n",
       "      <td>0.000000</td>\n",
       "      <td>0.000000</td>\n",
       "      <td>0.000000</td>\n",
       "      <td>0.000000</td>\n",
       "      <td>0.000000</td>\n",
       "      <td>0.000000</td>\n",
       "      <td>0.000000</td>\n",
       "      <td>0.000000</td>\n",
       "      <td>calm</td>\n",
       "    </tr>\n",
       "    <tr>\n",
       "      <th>4607</th>\n",
       "      <td>-70.372475</td>\n",
       "      <td>-70.616646</td>\n",
       "      <td>-70.727432</td>\n",
       "      <td>-70.727432</td>\n",
       "      <td>-70.727432</td>\n",
       "      <td>-70.671021</td>\n",
       "      <td>-70.727432</td>\n",
       "      <td>-70.727432</td>\n",
       "      <td>-70.727432</td>\n",
       "      <td>-70.727432</td>\n",
       "      <td>...</td>\n",
       "      <td>-67.049797</td>\n",
       "      <td>-67.557854</td>\n",
       "      <td>-67.729691</td>\n",
       "      <td>0.000000</td>\n",
       "      <td>0.000000</td>\n",
       "      <td>0.000000</td>\n",
       "      <td>0.000000</td>\n",
       "      <td>0.000000</td>\n",
       "      <td>0.000000</td>\n",
       "      <td>fear</td>\n",
       "    </tr>\n",
       "  </tbody>\n",
       "</table>\n",
       "<p>5 rows × 260 columns</p>\n",
       "</div>"
      ],
      "text/plain": [
       "              0          1          2          3          4          5  \\\n",
       "4603 -55.350864 -54.635700 -54.561180 -55.446121 -55.953434 -56.111580   \n",
       "4604 -67.904999 -67.943665 -68.031281 -67.961525 -67.885712 -68.044617   \n",
       "4605 -76.469704 -76.469704 -76.469704 -76.469704 -76.469704 -76.051636   \n",
       "4606 -82.734825 -79.602737 -77.126938 -76.456169 -77.006424 -76.750793   \n",
       "4607 -70.372475 -70.616646 -70.727432 -70.727432 -70.727432 -70.671021   \n",
       "\n",
       "              6          7          8          9  ...        250        251  \\\n",
       "4603 -56.143040 -56.143040 -56.092976 -56.070923  ... -55.757290 -55.860142   \n",
       "4604 -68.102264 -68.009331 -67.908081 -67.852127  ... -67.771706 -67.718842   \n",
       "4605 -76.397690 -76.469704 -76.469704 -76.469704  ... -76.464203 -76.469704   \n",
       "4606 -76.038513 -75.667809 -75.560844 -76.109756  ...   0.000000   0.000000   \n",
       "4607 -70.727432 -70.727432 -70.727432 -70.727432  ... -67.049797 -67.557854   \n",
       "\n",
       "            252        253        254        255        256        257  \\\n",
       "4603 -55.975815 -55.939114 -56.025181 -55.984623 -56.052174 -56.140205   \n",
       "4604 -67.534889 -67.411179 -67.642990 -67.714569 -67.876793 -67.729774   \n",
       "4605 -76.469704 -76.469704 -76.469704 -76.469704 -76.469704 -76.469704   \n",
       "4606   0.000000   0.000000   0.000000   0.000000   0.000000   0.000000   \n",
       "4607 -67.729691   0.000000   0.000000   0.000000   0.000000   0.000000   \n",
       "\n",
       "            258  emotion  \n",
       "4603 -56.143040    angry  \n",
       "4604 -67.574707      sad  \n",
       "4605 -76.469704      sad  \n",
       "4606   0.000000     calm  \n",
       "4607   0.000000     fear  \n",
       "\n",
       "[5 rows x 260 columns]"
      ]
     },
     "execution_count": 57,
     "metadata": {},
     "output_type": "execute_result"
    }
   ],
   "source": [
    "# JOIN FOUR DATA FRAMES FOR MODELING\n",
    "combined_df = pd.concat([mfcc, noise, speedpitch,stretch], ignore_index=True)\n",
    "combined_df = combined_df.fillna(0)\n",
    "combined_df.tail()"
   ]
  },
  {
   "cell_type": "code",
   "execution_count": 58,
   "id": "85421c62",
   "metadata": {},
   "outputs": [
    {
     "data": {
      "text/plain": [
       "(1152, 260)"
      ]
     },
     "execution_count": 58,
     "metadata": {},
     "output_type": "execute_result"
    }
   ],
   "source": [
    "mfcc.shape"
   ]
  },
  {
   "cell_type": "code",
   "execution_count": 59,
   "id": "525234f7",
   "metadata": {},
   "outputs": [],
   "source": [
    "X_train = combined_df.iloc[:, :-1]\n",
    "y_train = combined_df.iloc[:, -1:]"
   ]
  },
  {
   "cell_type": "code",
   "execution_count": 60,
   "id": "e7b53f8c",
   "metadata": {},
   "outputs": [
    {
     "name": "stdout",
     "output_type": "stream",
     "text": [
      "288\n"
     ]
    },
    {
     "data": {
      "text/html": [
       "<div>\n",
       "<style scoped>\n",
       "    .dataframe tbody tr th:only-of-type {\n",
       "        vertical-align: middle;\n",
       "    }\n",
       "\n",
       "    .dataframe tbody tr th {\n",
       "        vertical-align: top;\n",
       "    }\n",
       "\n",
       "    .dataframe thead th {\n",
       "        text-align: right;\n",
       "    }\n",
       "</style>\n",
       "<table border=\"1\" class=\"dataframe\">\n",
       "  <thead>\n",
       "    <tr style=\"text-align: right;\">\n",
       "      <th></th>\n",
       "      <th>mel_spectrogram</th>\n",
       "    </tr>\n",
       "  </thead>\n",
       "  <tbody>\n",
       "    <tr>\n",
       "      <th>0</th>\n",
       "      <td>[-52.76322, -52.76322, -52.76322, -52.76322, -...</td>\n",
       "    </tr>\n",
       "    <tr>\n",
       "      <th>1</th>\n",
       "      <td>[-58.98776, -57.910664, -56.494076, -55.62374,...</td>\n",
       "    </tr>\n",
       "    <tr>\n",
       "      <th>2</th>\n",
       "      <td>[-52.238705, -52.015965, -51.746494, -51.12382...</td>\n",
       "    </tr>\n",
       "    <tr>\n",
       "      <th>3</th>\n",
       "      <td>[-52.10011, -52.10011, -52.10011, -52.10011, -...</td>\n",
       "    </tr>\n",
       "    <tr>\n",
       "      <th>4</th>\n",
       "      <td>[-60.917233, -60.655, -59.86959, -59.600014, -...</td>\n",
       "    </tr>\n",
       "  </tbody>\n",
       "</table>\n",
       "</div>"
      ],
      "text/plain": [
       "                                     mel_spectrogram\n",
       "0  [-52.76322, -52.76322, -52.76322, -52.76322, -...\n",
       "1  [-58.98776, -57.910664, -56.494076, -55.62374,...\n",
       "2  [-52.238705, -52.015965, -51.746494, -51.12382...\n",
       "3  [-52.10011, -52.10011, -52.10011, -52.10011, -...\n",
       "4  [-60.917233, -60.655, -59.86959, -59.600014, -..."
      ]
     },
     "execution_count": 60,
     "metadata": {},
     "output_type": "execute_result"
    }
   ],
   "source": [
    "# ITERATE OVER ALL AUDIO FILES AND EXTRACT LOG MEL SPECTROGRAM MEAN VALUES INTO DF FOR MODELING \n",
    "df = pd.DataFrame(columns=['mel_spectrogram'])\n",
    "\n",
    "counter=0\n",
    "\n",
    "for index,path in enumerate(test.path):\n",
    "    X, sample_rate = librosa.load(path, res_type='kaiser_fast',duration=3,sr=44100,offset=0.5)\n",
    "    \n",
    "    #get the mel-scaled spectrogram (ransform both the y-axis (frequency) to log scale, and the “color” axis (amplitude) to Decibels, which is kinda the log scale of amplitudes.)\n",
    "    spectrogram = librosa.feature.melspectrogram(y=X, sr=sample_rate, n_mels=128,fmax=8000) \n",
    "    db_spec = librosa.power_to_db(spectrogram)\n",
    "    #temporally average spectrogram\n",
    "    log_spectrogram = np.mean(db_spec, axis = 0)\n",
    "    \n",
    "    df.loc[counter] = [log_spectrogram]\n",
    "    counter=counter+1   \n",
    "\n",
    "print(len(df))\n",
    "df.head()"
   ]
  },
  {
   "cell_type": "code",
   "execution_count": 61,
   "id": "c9cacb2d",
   "metadata": {},
   "outputs": [],
   "source": [
    "test.reset_index(drop=True,inplace=True)"
   ]
  },
  {
   "cell_type": "code",
   "execution_count": 62,
   "id": "10866de2",
   "metadata": {},
   "outputs": [
    {
     "data": {
      "text/html": [
       "<div>\n",
       "<style scoped>\n",
       "    .dataframe tbody tr th:only-of-type {\n",
       "        vertical-align: middle;\n",
       "    }\n",
       "\n",
       "    .dataframe tbody tr th {\n",
       "        vertical-align: top;\n",
       "    }\n",
       "\n",
       "    .dataframe thead th {\n",
       "        text-align: right;\n",
       "    }\n",
       "</style>\n",
       "<table border=\"1\" class=\"dataframe\">\n",
       "  <thead>\n",
       "    <tr style=\"text-align: right;\">\n",
       "      <th></th>\n",
       "      <th>gender</th>\n",
       "      <th>emotion</th>\n",
       "      <th>actor</th>\n",
       "      <th>path</th>\n",
       "      <th>0</th>\n",
       "      <th>1</th>\n",
       "      <th>2</th>\n",
       "      <th>3</th>\n",
       "      <th>4</th>\n",
       "      <th>5</th>\n",
       "      <th>...</th>\n",
       "      <th>249</th>\n",
       "      <th>250</th>\n",
       "      <th>251</th>\n",
       "      <th>252</th>\n",
       "      <th>253</th>\n",
       "      <th>254</th>\n",
       "      <th>255</th>\n",
       "      <th>256</th>\n",
       "      <th>257</th>\n",
       "      <th>258</th>\n",
       "    </tr>\n",
       "  </thead>\n",
       "  <tbody>\n",
       "    <tr>\n",
       "      <th>0</th>\n",
       "      <td>female</td>\n",
       "      <td>fear</td>\n",
       "      <td>4</td>\n",
       "      <td>E:\\Datasets\\RAVDESS/audio_speech_actors_01-24/...</td>\n",
       "      <td>-52.763222</td>\n",
       "      <td>-52.763222</td>\n",
       "      <td>-52.763222</td>\n",
       "      <td>-52.763222</td>\n",
       "      <td>-52.763222</td>\n",
       "      <td>-52.763222</td>\n",
       "      <td>...</td>\n",
       "      <td>-44.213104</td>\n",
       "      <td>-44.874271</td>\n",
       "      <td>-44.891907</td>\n",
       "      <td>-45.049019</td>\n",
       "      <td>-45.912987</td>\n",
       "      <td>-46.570332</td>\n",
       "      <td>-47.174248</td>\n",
       "      <td>-47.970875</td>\n",
       "      <td>-48.438820</td>\n",
       "      <td>-49.576263</td>\n",
       "    </tr>\n",
       "    <tr>\n",
       "      <th>1</th>\n",
       "      <td>male</td>\n",
       "      <td>calm</td>\n",
       "      <td>21</td>\n",
       "      <td>E:\\Datasets\\RAVDESS/audio_speech_actors_01-24/...</td>\n",
       "      <td>-58.987759</td>\n",
       "      <td>-57.910664</td>\n",
       "      <td>-56.494076</td>\n",
       "      <td>-55.623741</td>\n",
       "      <td>-54.973011</td>\n",
       "      <td>-54.715092</td>\n",
       "      <td>...</td>\n",
       "      <td>-66.325829</td>\n",
       "      <td>-66.646477</td>\n",
       "      <td>-66.721275</td>\n",
       "      <td>-67.368301</td>\n",
       "      <td>-67.622253</td>\n",
       "      <td>-68.267868</td>\n",
       "      <td>-68.893929</td>\n",
       "      <td>-70.283516</td>\n",
       "      <td>-70.107117</td>\n",
       "      <td>-69.970970</td>\n",
       "    </tr>\n",
       "    <tr>\n",
       "      <th>2</th>\n",
       "      <td>female</td>\n",
       "      <td>happy</td>\n",
       "      <td>16</td>\n",
       "      <td>E:\\Datasets\\RAVDESS/audio_speech_actors_01-24/...</td>\n",
       "      <td>-52.238705</td>\n",
       "      <td>-52.015965</td>\n",
       "      <td>-51.746494</td>\n",
       "      <td>-51.123821</td>\n",
       "      <td>-50.795700</td>\n",
       "      <td>-50.652802</td>\n",
       "      <td>...</td>\n",
       "      <td>-53.232944</td>\n",
       "      <td>-53.232944</td>\n",
       "      <td>-53.232944</td>\n",
       "      <td>-53.232944</td>\n",
       "      <td>-53.232944</td>\n",
       "      <td>-53.232944</td>\n",
       "      <td>-53.232944</td>\n",
       "      <td>-53.232944</td>\n",
       "      <td>-53.232944</td>\n",
       "      <td>-53.232944</td>\n",
       "    </tr>\n",
       "    <tr>\n",
       "      <th>3</th>\n",
       "      <td>female</td>\n",
       "      <td>angry</td>\n",
       "      <td>12</td>\n",
       "      <td>E:\\Datasets\\RAVDESS/audio_speech_actors_01-24/...</td>\n",
       "      <td>-52.100109</td>\n",
       "      <td>-52.100109</td>\n",
       "      <td>-52.100109</td>\n",
       "      <td>-52.100109</td>\n",
       "      <td>-52.100109</td>\n",
       "      <td>-52.100109</td>\n",
       "      <td>...</td>\n",
       "      <td>-51.312187</td>\n",
       "      <td>-51.426300</td>\n",
       "      <td>-51.391220</td>\n",
       "      <td>-51.352646</td>\n",
       "      <td>-51.349068</td>\n",
       "      <td>-51.352383</td>\n",
       "      <td>-51.363049</td>\n",
       "      <td>-51.370937</td>\n",
       "      <td>-51.395046</td>\n",
       "      <td>-51.481194</td>\n",
       "    </tr>\n",
       "    <tr>\n",
       "      <th>4</th>\n",
       "      <td>male</td>\n",
       "      <td>fear</td>\n",
       "      <td>23</td>\n",
       "      <td>E:\\Datasets\\RAVDESS/audio_speech_actors_01-24/...</td>\n",
       "      <td>-60.917233</td>\n",
       "      <td>-60.654999</td>\n",
       "      <td>-59.869591</td>\n",
       "      <td>-59.600014</td>\n",
       "      <td>-59.231213</td>\n",
       "      <td>-59.132954</td>\n",
       "      <td>...</td>\n",
       "      <td>-61.859730</td>\n",
       "      <td>-60.662224</td>\n",
       "      <td>-60.089397</td>\n",
       "      <td>-60.016220</td>\n",
       "      <td>-60.274792</td>\n",
       "      <td>-59.831215</td>\n",
       "      <td>-59.677319</td>\n",
       "      <td>-59.808880</td>\n",
       "      <td>-59.634274</td>\n",
       "      <td>-60.034416</td>\n",
       "    </tr>\n",
       "  </tbody>\n",
       "</table>\n",
       "<p>5 rows × 263 columns</p>\n",
       "</div>"
      ],
      "text/plain": [
       "   gender emotion  actor                                               path  \\\n",
       "0  female    fear      4  E:\\Datasets\\RAVDESS/audio_speech_actors_01-24/...   \n",
       "1    male    calm     21  E:\\Datasets\\RAVDESS/audio_speech_actors_01-24/...   \n",
       "2  female   happy     16  E:\\Datasets\\RAVDESS/audio_speech_actors_01-24/...   \n",
       "3  female   angry     12  E:\\Datasets\\RAVDESS/audio_speech_actors_01-24/...   \n",
       "4    male    fear     23  E:\\Datasets\\RAVDESS/audio_speech_actors_01-24/...   \n",
       "\n",
       "           0          1          2          3          4          5  ...  \\\n",
       "0 -52.763222 -52.763222 -52.763222 -52.763222 -52.763222 -52.763222  ...   \n",
       "1 -58.987759 -57.910664 -56.494076 -55.623741 -54.973011 -54.715092  ...   \n",
       "2 -52.238705 -52.015965 -51.746494 -51.123821 -50.795700 -50.652802  ...   \n",
       "3 -52.100109 -52.100109 -52.100109 -52.100109 -52.100109 -52.100109  ...   \n",
       "4 -60.917233 -60.654999 -59.869591 -59.600014 -59.231213 -59.132954  ...   \n",
       "\n",
       "         249        250        251        252        253        254  \\\n",
       "0 -44.213104 -44.874271 -44.891907 -45.049019 -45.912987 -46.570332   \n",
       "1 -66.325829 -66.646477 -66.721275 -67.368301 -67.622253 -68.267868   \n",
       "2 -53.232944 -53.232944 -53.232944 -53.232944 -53.232944 -53.232944   \n",
       "3 -51.312187 -51.426300 -51.391220 -51.352646 -51.349068 -51.352383   \n",
       "4 -61.859730 -60.662224 -60.089397 -60.016220 -60.274792 -59.831215   \n",
       "\n",
       "         255        256        257        258  \n",
       "0 -47.174248 -47.970875 -48.438820 -49.576263  \n",
       "1 -68.893929 -70.283516 -70.107117 -69.970970  \n",
       "2 -53.232944 -53.232944 -53.232944 -53.232944  \n",
       "3 -51.363049 -51.370937 -51.395046 -51.481194  \n",
       "4 -59.677319 -59.808880 -59.634274 -60.034416  \n",
       "\n",
       "[5 rows x 263 columns]"
      ]
     },
     "execution_count": 62,
     "metadata": {},
     "output_type": "execute_result"
    }
   ],
   "source": [
    "# TURN ARRAY INTO LIST AND JOIN WITH AUDIO_DF TO GET CORRESPONDING EMOTION LABELS\n",
    "df_combined = pd.concat([test,pd.DataFrame(df['mel_spectrogram'].values.tolist())],axis=1)\n",
    "df_combined = df_combined.fillna(0)\n",
    "df_combined.head()"
   ]
  },
  {
   "cell_type": "code",
   "execution_count": 63,
   "id": "86247031",
   "metadata": {},
   "outputs": [
    {
     "name": "stdout",
     "output_type": "stream",
     "text": [
      "(288, 262)\n"
     ]
    },
    {
     "data": {
      "text/html": [
       "<div>\n",
       "<style scoped>\n",
       "    .dataframe tbody tr th:only-of-type {\n",
       "        vertical-align: middle;\n",
       "    }\n",
       "\n",
       "    .dataframe tbody tr th {\n",
       "        vertical-align: top;\n",
       "    }\n",
       "\n",
       "    .dataframe thead th {\n",
       "        text-align: right;\n",
       "    }\n",
       "</style>\n",
       "<table border=\"1\" class=\"dataframe\">\n",
       "  <thead>\n",
       "    <tr style=\"text-align: right;\">\n",
       "      <th></th>\n",
       "      <th>gender</th>\n",
       "      <th>emotion</th>\n",
       "      <th>actor</th>\n",
       "      <th>0</th>\n",
       "      <th>1</th>\n",
       "      <th>2</th>\n",
       "      <th>3</th>\n",
       "      <th>4</th>\n",
       "      <th>5</th>\n",
       "      <th>6</th>\n",
       "      <th>...</th>\n",
       "      <th>249</th>\n",
       "      <th>250</th>\n",
       "      <th>251</th>\n",
       "      <th>252</th>\n",
       "      <th>253</th>\n",
       "      <th>254</th>\n",
       "      <th>255</th>\n",
       "      <th>256</th>\n",
       "      <th>257</th>\n",
       "      <th>258</th>\n",
       "    </tr>\n",
       "  </thead>\n",
       "  <tbody>\n",
       "    <tr>\n",
       "      <th>0</th>\n",
       "      <td>female</td>\n",
       "      <td>fear</td>\n",
       "      <td>4</td>\n",
       "      <td>-52.763222</td>\n",
       "      <td>-52.763222</td>\n",
       "      <td>-52.763222</td>\n",
       "      <td>-52.763222</td>\n",
       "      <td>-52.763222</td>\n",
       "      <td>-52.763222</td>\n",
       "      <td>-52.763222</td>\n",
       "      <td>...</td>\n",
       "      <td>-44.213104</td>\n",
       "      <td>-44.874271</td>\n",
       "      <td>-44.891907</td>\n",
       "      <td>-45.049019</td>\n",
       "      <td>-45.912987</td>\n",
       "      <td>-46.570332</td>\n",
       "      <td>-47.174248</td>\n",
       "      <td>-47.970875</td>\n",
       "      <td>-48.438820</td>\n",
       "      <td>-49.576263</td>\n",
       "    </tr>\n",
       "    <tr>\n",
       "      <th>1</th>\n",
       "      <td>male</td>\n",
       "      <td>calm</td>\n",
       "      <td>21</td>\n",
       "      <td>-58.987759</td>\n",
       "      <td>-57.910664</td>\n",
       "      <td>-56.494076</td>\n",
       "      <td>-55.623741</td>\n",
       "      <td>-54.973011</td>\n",
       "      <td>-54.715092</td>\n",
       "      <td>-53.624565</td>\n",
       "      <td>...</td>\n",
       "      <td>-66.325829</td>\n",
       "      <td>-66.646477</td>\n",
       "      <td>-66.721275</td>\n",
       "      <td>-67.368301</td>\n",
       "      <td>-67.622253</td>\n",
       "      <td>-68.267868</td>\n",
       "      <td>-68.893929</td>\n",
       "      <td>-70.283516</td>\n",
       "      <td>-70.107117</td>\n",
       "      <td>-69.970970</td>\n",
       "    </tr>\n",
       "    <tr>\n",
       "      <th>2</th>\n",
       "      <td>female</td>\n",
       "      <td>happy</td>\n",
       "      <td>16</td>\n",
       "      <td>-52.238705</td>\n",
       "      <td>-52.015965</td>\n",
       "      <td>-51.746494</td>\n",
       "      <td>-51.123821</td>\n",
       "      <td>-50.795700</td>\n",
       "      <td>-50.652802</td>\n",
       "      <td>-50.606216</td>\n",
       "      <td>...</td>\n",
       "      <td>-53.232944</td>\n",
       "      <td>-53.232944</td>\n",
       "      <td>-53.232944</td>\n",
       "      <td>-53.232944</td>\n",
       "      <td>-53.232944</td>\n",
       "      <td>-53.232944</td>\n",
       "      <td>-53.232944</td>\n",
       "      <td>-53.232944</td>\n",
       "      <td>-53.232944</td>\n",
       "      <td>-53.232944</td>\n",
       "    </tr>\n",
       "    <tr>\n",
       "      <th>3</th>\n",
       "      <td>female</td>\n",
       "      <td>angry</td>\n",
       "      <td>12</td>\n",
       "      <td>-52.100109</td>\n",
       "      <td>-52.100109</td>\n",
       "      <td>-52.100109</td>\n",
       "      <td>-52.100109</td>\n",
       "      <td>-52.100109</td>\n",
       "      <td>-52.100109</td>\n",
       "      <td>-52.100109</td>\n",
       "      <td>...</td>\n",
       "      <td>-51.312187</td>\n",
       "      <td>-51.426300</td>\n",
       "      <td>-51.391220</td>\n",
       "      <td>-51.352646</td>\n",
       "      <td>-51.349068</td>\n",
       "      <td>-51.352383</td>\n",
       "      <td>-51.363049</td>\n",
       "      <td>-51.370937</td>\n",
       "      <td>-51.395046</td>\n",
       "      <td>-51.481194</td>\n",
       "    </tr>\n",
       "    <tr>\n",
       "      <th>4</th>\n",
       "      <td>male</td>\n",
       "      <td>fear</td>\n",
       "      <td>23</td>\n",
       "      <td>-60.917233</td>\n",
       "      <td>-60.654999</td>\n",
       "      <td>-59.869591</td>\n",
       "      <td>-59.600014</td>\n",
       "      <td>-59.231213</td>\n",
       "      <td>-59.132954</td>\n",
       "      <td>-58.666348</td>\n",
       "      <td>...</td>\n",
       "      <td>-61.859730</td>\n",
       "      <td>-60.662224</td>\n",
       "      <td>-60.089397</td>\n",
       "      <td>-60.016220</td>\n",
       "      <td>-60.274792</td>\n",
       "      <td>-59.831215</td>\n",
       "      <td>-59.677319</td>\n",
       "      <td>-59.808880</td>\n",
       "      <td>-59.634274</td>\n",
       "      <td>-60.034416</td>\n",
       "    </tr>\n",
       "  </tbody>\n",
       "</table>\n",
       "<p>5 rows × 262 columns</p>\n",
       "</div>"
      ],
      "text/plain": [
       "   gender emotion  actor          0          1          2          3  \\\n",
       "0  female    fear      4 -52.763222 -52.763222 -52.763222 -52.763222   \n",
       "1    male    calm     21 -58.987759 -57.910664 -56.494076 -55.623741   \n",
       "2  female   happy     16 -52.238705 -52.015965 -51.746494 -51.123821   \n",
       "3  female   angry     12 -52.100109 -52.100109 -52.100109 -52.100109   \n",
       "4    male    fear     23 -60.917233 -60.654999 -59.869591 -59.600014   \n",
       "\n",
       "           4          5          6  ...        249        250        251  \\\n",
       "0 -52.763222 -52.763222 -52.763222  ... -44.213104 -44.874271 -44.891907   \n",
       "1 -54.973011 -54.715092 -53.624565  ... -66.325829 -66.646477 -66.721275   \n",
       "2 -50.795700 -50.652802 -50.606216  ... -53.232944 -53.232944 -53.232944   \n",
       "3 -52.100109 -52.100109 -52.100109  ... -51.312187 -51.426300 -51.391220   \n",
       "4 -59.231213 -59.132954 -58.666348  ... -61.859730 -60.662224 -60.089397   \n",
       "\n",
       "         252        253        254        255        256        257        258  \n",
       "0 -45.049019 -45.912987 -46.570332 -47.174248 -47.970875 -48.438820 -49.576263  \n",
       "1 -67.368301 -67.622253 -68.267868 -68.893929 -70.283516 -70.107117 -69.970970  \n",
       "2 -53.232944 -53.232944 -53.232944 -53.232944 -53.232944 -53.232944 -53.232944  \n",
       "3 -51.352646 -51.349068 -51.352383 -51.363049 -51.370937 -51.395046 -51.481194  \n",
       "4 -60.016220 -60.274792 -59.831215 -59.677319 -59.808880 -59.634274 -60.034416  \n",
       "\n",
       "[5 rows x 262 columns]"
      ]
     },
     "execution_count": 63,
     "metadata": {},
     "output_type": "execute_result"
    }
   ],
   "source": [
    "# DROP PATH COLUMN FOR MODELING\n",
    "df_combined.drop(columns='path',inplace=True)\n",
    "# CHECK TOP 5 ROWS\n",
    "print(df_combined.shape)\n",
    "df_combined.head()"
   ]
  },
  {
   "cell_type": "code",
   "execution_count": 64,
   "id": "1e927e77",
   "metadata": {},
   "outputs": [],
   "source": [
    "# SEPARATE DF_COMBINED INTO X_TEST AND Y_TEST\n",
    "X_test = df_combined.iloc[:, 3:]\n",
    "y_test = df_combined.iloc[:,:2].drop(columns=['gender'])"
   ]
  },
  {
   "cell_type": "code",
   "execution_count": 65,
   "id": "6fb0375c",
   "metadata": {},
   "outputs": [],
   "source": [
    "# NORMALIZE DATA\n",
    "mean = np.mean(X_train, axis=0)\n",
    "std = np.std(X_train, axis=0)\n",
    "X_train = (X_train - mean)/std\n",
    "X_test = (X_test - mean)/std"
   ]
  },
  {
   "cell_type": "code",
   "execution_count": 66,
   "id": "91b6f035",
   "metadata": {},
   "outputs": [],
   "source": [
    "# TURN INTO ARRAYS\n",
    "X_train = np.array(X_train)\n",
    "y_train = np.array(y_train)\n",
    "X_test = np.array(X_test)\n",
    "y_test = np.array(y_test)"
   ]
  },
  {
   "cell_type": "code",
   "execution_count": 67,
   "id": "6b8d1b4b",
   "metadata": {},
   "outputs": [
    {
     "data": {
      "text/plain": [
       "array([['angry'],\n",
       "       ['surprise'],\n",
       "       ['surprise'],\n",
       "       ...,\n",
       "       ['sad'],\n",
       "       ['calm'],\n",
       "       ['fear']], dtype=object)"
      ]
     },
     "execution_count": 67,
     "metadata": {},
     "output_type": "execute_result"
    }
   ],
   "source": [
    "y_train"
   ]
  },
  {
   "cell_type": "code",
   "execution_count": 68,
   "id": "5c735d68",
   "metadata": {},
   "outputs": [
    {
     "name": "stdout",
     "output_type": "stream",
     "text": [
      "[[0. 0. 0. 1. 0. 0. 0. 0.]\n",
      " [0. 1. 0. 0. 0. 0. 0. 0.]\n",
      " [0. 0. 0. 0. 1. 0. 0. 0.]\n",
      " [1. 0. 0. 0. 0. 0. 0. 0.]\n",
      " [0. 0. 0. 1. 0. 0. 0. 0.]\n",
      " [1. 0. 0. 0. 0. 0. 0. 0.]\n",
      " [0. 0. 0. 0. 1. 0. 0. 0.]\n",
      " [0. 0. 0. 0. 0. 0. 1. 0.]\n",
      " [0. 0. 0. 0. 0. 1. 0. 0.]\n",
      " [1. 0. 0. 0. 0. 0. 0. 0.]]\n"
     ]
    }
   ],
   "source": [
    "# ONE HOT ENCODE EMOTION LABELS\n",
    "lb = LabelEncoder()\n",
    "y_train = to_categorical(lb.fit_transform(y_train))\n",
    "y_test = to_categorical(lb.fit_transform(y_test))\n",
    "\n",
    "print(y_test[0:10])"
   ]
  },
  {
   "cell_type": "code",
   "execution_count": 69,
   "id": "f6130d67",
   "metadata": {},
   "outputs": [
    {
     "name": "stdout",
     "output_type": "stream",
     "text": [
      "['angry' 'calm' 'disgust' 'fear' 'happy' 'neutral' 'sad' 'surprise']\n"
     ]
    }
   ],
   "source": [
    "print(lb.classes_)"
   ]
  },
  {
   "cell_type": "code",
   "execution_count": 70,
   "id": "9da5881b",
   "metadata": {},
   "outputs": [
    {
     "data": {
      "text/plain": [
       "(288, 259, 1)"
      ]
     },
     "execution_count": 70,
     "metadata": {},
     "output_type": "execute_result"
    }
   ],
   "source": [
    "# RESHAPE TO ADD 3D TENSOR FOR 1D CNN INPUT\n",
    "X_train = X_train[:,:,np.newaxis]\n",
    "X_test = X_test[:,:,np.newaxis]\n",
    "X_test.shape"
   ]
  },
  {
   "cell_type": "code",
   "execution_count": 71,
   "id": "2fc10cd8",
   "metadata": {},
   "outputs": [
    {
     "data": {
      "text/plain": [
       "4608"
      ]
     },
     "execution_count": 71,
     "metadata": {},
     "output_type": "execute_result"
    }
   ],
   "source": [
    "X_train.shape[0]"
   ]
  },
  {
   "cell_type": "code",
   "execution_count": 72,
   "id": "75dc428c",
   "metadata": {},
   "outputs": [
    {
     "name": "stdout",
     "output_type": "stream",
     "text": [
      "Model: \"sequential\"\n",
      "_________________________________________________________________\n",
      "Layer (type)                 Output Shape              Param #   \n",
      "=================================================================\n",
      "conv1d (Conv1D)              (None, 240, 64)           1344      \n",
      "_________________________________________________________________\n",
      "conv1d_1 (Conv1D)            (None, 221, 128)          163968    \n",
      "_________________________________________________________________\n",
      "max_pooling1d (MaxPooling1D) (None, 27, 128)           0         \n",
      "_________________________________________________________________\n",
      "dropout (Dropout)            (None, 27, 128)           0         \n",
      "_________________________________________________________________\n",
      "conv1d_2 (Conv1D)            (None, 8, 128)            327808    \n",
      "_________________________________________________________________\n",
      "max_pooling1d_1 (MaxPooling1 (None, 1, 128)            0         \n",
      "_________________________________________________________________\n",
      "dropout_1 (Dropout)          (None, 1, 128)            0         \n",
      "_________________________________________________________________\n",
      "flatten (Flatten)            (None, 128)               0         \n",
      "_________________________________________________________________\n",
      "dense (Dense)                (None, 256)               33024     \n",
      "_________________________________________________________________\n",
      "dropout_2 (Dropout)          (None, 256)               0         \n",
      "_________________________________________________________________\n",
      "dense_1 (Dense)              (None, 8)                 2056      \n",
      "=================================================================\n",
      "Total params: 528,200\n",
      "Trainable params: 528,200\n",
      "Non-trainable params: 0\n",
      "_________________________________________________________________\n"
     ]
    }
   ],
   "source": [
    "# BUILD 1D CNN LAYERS\n",
    "from tensorflow.keras.layers import Conv2D, MaxPooling2D\n",
    "\n",
    "# BUILD 1D CNN LAYERS\n",
    "model = Sequential()\n",
    "model.add(Conv1D(64, kernel_size=(20), activation='relu', input_shape=(X_train.shape[1],1)))\n",
    "\n",
    "model.add(Conv1D(128, kernel_size=(20),activation='relu',kernel_regularizer=l2(0.01), bias_regularizer=l2(0.01)))\n",
    "model.add(MaxPooling1D(pool_size=(8)))\n",
    "model.add(Dropout(0.2))\n",
    "\n",
    "model.add(Conv1D(128, kernel_size=(20),activation='relu'))\n",
    "model.add(MaxPooling1D(pool_size=(8)))\n",
    "model.add(Dropout(0.2))\n",
    "\n",
    "model.add(Flatten())\n",
    "model.add(Dense(256, activation='relu'))\n",
    "model.add(Dropout(0.2))\n",
    "model.add(Dense(8, activation='softmax'))\n",
    "model.summary()\n",
    "opt = tf.keras.optimizers.Adam(lr=0.0001, decay=1e-6)"
   ]
  },
  {
   "cell_type": "code",
   "execution_count": 73,
   "id": "46ece653",
   "metadata": {},
   "outputs": [
    {
     "name": "stdout",
     "output_type": "stream",
     "text": [
      "Epoch 1/20\n",
      "575/576 [============================>.] - ETA: 0s - loss: 2.2997 - accuracy: 0.2883\n",
      "Epoch 00001: val_loss improved from inf to 1.96916, saving model to face_detector.h15\n",
      "WARNING:tensorflow:From C:\\Users\\Farnoush\\anaconda3\\envs\\my-env\\lib\\site-packages\\tensorflow\\python\\training\\tracking\\tracking.py:111: Model.state_updates (from tensorflow.python.keras.engine.training) is deprecated and will be removed in a future version.\n",
      "Instructions for updating:\n",
      "This property should not be used in TensorFlow 2.0, as updates are applied automatically.\n"
     ]
    },
    {
     "name": "stderr",
     "output_type": "stream",
     "text": [
      "WARNING:tensorflow:From C:\\Users\\Farnoush\\anaconda3\\envs\\my-env\\lib\\site-packages\\tensorflow\\python\\training\\tracking\\tracking.py:111: Model.state_updates (from tensorflow.python.keras.engine.training) is deprecated and will be removed in a future version.\n",
      "Instructions for updating:\n",
      "This property should not be used in TensorFlow 2.0, as updates are applied automatically.\n"
     ]
    },
    {
     "name": "stdout",
     "output_type": "stream",
     "text": [
      "WARNING:tensorflow:From C:\\Users\\Farnoush\\anaconda3\\envs\\my-env\\lib\\site-packages\\tensorflow\\python\\training\\tracking\\tracking.py:111: Layer.updates (from tensorflow.python.keras.engine.base_layer) is deprecated and will be removed in a future version.\n",
      "Instructions for updating:\n",
      "This property should not be used in TensorFlow 2.0, as updates are applied automatically.\n"
     ]
    },
    {
     "name": "stderr",
     "output_type": "stream",
     "text": [
      "WARNING:tensorflow:From C:\\Users\\Farnoush\\anaconda3\\envs\\my-env\\lib\\site-packages\\tensorflow\\python\\training\\tracking\\tracking.py:111: Layer.updates (from tensorflow.python.keras.engine.base_layer) is deprecated and will be removed in a future version.\n",
      "Instructions for updating:\n",
      "This property should not be used in TensorFlow 2.0, as updates are applied automatically.\n"
     ]
    },
    {
     "name": "stdout",
     "output_type": "stream",
     "text": [
      "INFO:tensorflow:Assets written to: face_detector.h15\\assets\n"
     ]
    },
    {
     "name": "stderr",
     "output_type": "stream",
     "text": [
      "INFO:tensorflow:Assets written to: face_detector.h15\\assets\n"
     ]
    },
    {
     "name": "stdout",
     "output_type": "stream",
     "text": [
      "576/576 [==============================] - 29s 50ms/step - loss: 2.2993 - accuracy: 0.2880 - val_loss: 1.9692 - val_accuracy: 0.3333\n",
      "Epoch 2/20\n",
      "576/576 [==============================] - ETA: 0s - loss: 1.8759 - accuracy: 0.3327\n",
      "Epoch 00002: val_loss improved from 1.96916 to 1.73047, saving model to face_detector.h15\n",
      "INFO:tensorflow:Assets written to: face_detector.h15\\assets\n"
     ]
    },
    {
     "name": "stderr",
     "output_type": "stream",
     "text": [
      "INFO:tensorflow:Assets written to: face_detector.h15\\assets\n"
     ]
    },
    {
     "name": "stdout",
     "output_type": "stream",
     "text": [
      "576/576 [==============================] - 28s 48ms/step - loss: 1.8759 - accuracy: 0.3327 - val_loss: 1.7305 - val_accuracy: 0.4132\n",
      "Epoch 3/20\n",
      "576/576 [==============================] - ETA: 0s - loss: 1.7078 - accuracy: 0.3743\n",
      "Epoch 00003: val_loss improved from 1.73047 to 1.64443, saving model to face_detector.h15\n",
      "INFO:tensorflow:Assets written to: face_detector.h15\\assets\n"
     ]
    },
    {
     "name": "stderr",
     "output_type": "stream",
     "text": [
      "INFO:tensorflow:Assets written to: face_detector.h15\\assets\n"
     ]
    },
    {
     "name": "stdout",
     "output_type": "stream",
     "text": [
      "576/576 [==============================] - 28s 48ms/step - loss: 1.7078 - accuracy: 0.3743 - val_loss: 1.6444 - val_accuracy: 0.4306\n",
      "Epoch 4/20\n",
      "576/576 [==============================] - ETA: 0s - loss: 1.6160 - accuracy: 0.4047\n",
      "Epoch 00004: val_loss improved from 1.64443 to 1.57021, saving model to face_detector.h15\n",
      "INFO:tensorflow:Assets written to: face_detector.h15\\assets\n"
     ]
    },
    {
     "name": "stderr",
     "output_type": "stream",
     "text": [
      "INFO:tensorflow:Assets written to: face_detector.h15\\assets\n"
     ]
    },
    {
     "name": "stdout",
     "output_type": "stream",
     "text": [
      "576/576 [==============================] - 28s 49ms/step - loss: 1.6160 - accuracy: 0.4047 - val_loss: 1.5702 - val_accuracy: 0.4340\n",
      "Epoch 5/20\n",
      "576/576 [==============================] - ETA: 0s - loss: 1.5424 - accuracy: 0.4243\n",
      "Epoch 00005: val_loss improved from 1.57021 to 1.53459, saving model to face_detector.h15\n",
      "INFO:tensorflow:Assets written to: face_detector.h15\\assets\n"
     ]
    },
    {
     "name": "stderr",
     "output_type": "stream",
     "text": [
      "INFO:tensorflow:Assets written to: face_detector.h15\\assets\n"
     ]
    },
    {
     "name": "stdout",
     "output_type": "stream",
     "text": [
      "576/576 [==============================] - 29s 51ms/step - loss: 1.5424 - accuracy: 0.4243 - val_loss: 1.5346 - val_accuracy: 0.4583\n",
      "Epoch 6/20\n",
      "576/576 [==============================] - ETA: 0s - loss: 1.4743 - accuracy: 0.4395\n",
      "Epoch 00006: val_loss improved from 1.53459 to 1.45294, saving model to face_detector.h15\n",
      "INFO:tensorflow:Assets written to: face_detector.h15\\assets\n"
     ]
    },
    {
     "name": "stderr",
     "output_type": "stream",
     "text": [
      "INFO:tensorflow:Assets written to: face_detector.h15\\assets\n"
     ]
    },
    {
     "name": "stdout",
     "output_type": "stream",
     "text": [
      "576/576 [==============================] - 29s 51ms/step - loss: 1.4743 - accuracy: 0.4395 - val_loss: 1.4529 - val_accuracy: 0.4965\n",
      "Epoch 7/20\n",
      "575/576 [============================>.] - ETA: 0s - loss: 1.4075 - accuracy: 0.4783\n",
      "Epoch 00007: val_loss improved from 1.45294 to 1.44366, saving model to face_detector.h15\n",
      "INFO:tensorflow:Assets written to: face_detector.h15\\assets\n"
     ]
    },
    {
     "name": "stderr",
     "output_type": "stream",
     "text": [
      "INFO:tensorflow:Assets written to: face_detector.h15\\assets\n"
     ]
    },
    {
     "name": "stdout",
     "output_type": "stream",
     "text": [
      "576/576 [==============================] - 29s 50ms/step - loss: 1.4072 - accuracy: 0.4783 - val_loss: 1.4437 - val_accuracy: 0.4722\n",
      "Epoch 8/20\n",
      "576/576 [==============================] - ETA: 0s - loss: 1.3591 - accuracy: 0.5080\n",
      "Epoch 00008: val_loss improved from 1.44366 to 1.39384, saving model to face_detector.h15\n",
      "INFO:tensorflow:Assets written to: face_detector.h15\\assets\n"
     ]
    },
    {
     "name": "stderr",
     "output_type": "stream",
     "text": [
      "INFO:tensorflow:Assets written to: face_detector.h15\\assets\n"
     ]
    },
    {
     "name": "stdout",
     "output_type": "stream",
     "text": [
      "576/576 [==============================] - 28s 49ms/step - loss: 1.3591 - accuracy: 0.5080 - val_loss: 1.3938 - val_accuracy: 0.5139\n",
      "Epoch 9/20\n",
      "576/576 [==============================] - ETA: 0s - loss: 1.2947 - accuracy: 0.5286\n",
      "Epoch 00009: val_loss improved from 1.39384 to 1.35571, saving model to face_detector.h15\n",
      "INFO:tensorflow:Assets written to: face_detector.h15\\assets\n"
     ]
    },
    {
     "name": "stderr",
     "output_type": "stream",
     "text": [
      "INFO:tensorflow:Assets written to: face_detector.h15\\assets\n"
     ]
    },
    {
     "name": "stdout",
     "output_type": "stream",
     "text": [
      "576/576 [==============================] - 29s 50ms/step - loss: 1.2947 - accuracy: 0.5286 - val_loss: 1.3557 - val_accuracy: 0.5069\n",
      "Epoch 10/20\n",
      "575/576 [============================>.] - ETA: 0s - loss: 1.2399 - accuracy: 0.5439\n",
      "Epoch 00010: val_loss improved from 1.35571 to 1.34760, saving model to face_detector.h15\n",
      "INFO:tensorflow:Assets written to: face_detector.h15\\assets\n"
     ]
    },
    {
     "name": "stderr",
     "output_type": "stream",
     "text": [
      "INFO:tensorflow:Assets written to: face_detector.h15\\assets\n"
     ]
    },
    {
     "name": "stdout",
     "output_type": "stream",
     "text": [
      "576/576 [==============================] - 29s 50ms/step - loss: 1.2401 - accuracy: 0.5436 - val_loss: 1.3476 - val_accuracy: 0.5556\n",
      "Epoch 11/20\n",
      "576/576 [==============================] - ETA: 0s - loss: 1.1878 - accuracy: 0.5686\n",
      "Epoch 00011: val_loss did not improve from 1.34760\n",
      "576/576 [==============================] - 24s 42ms/step - loss: 1.1878 - accuracy: 0.5686 - val_loss: 1.3706 - val_accuracy: 0.5521\n",
      "Epoch 12/20\n",
      "576/576 [==============================] - ETA: 0s - loss: 1.1459 - accuracy: 0.5812\n",
      "Epoch 00012: val_loss improved from 1.34760 to 1.33132, saving model to face_detector.h15\n",
      "INFO:tensorflow:Assets written to: face_detector.h15\\assets\n"
     ]
    },
    {
     "name": "stderr",
     "output_type": "stream",
     "text": [
      "INFO:tensorflow:Assets written to: face_detector.h15\\assets\n"
     ]
    },
    {
     "name": "stdout",
     "output_type": "stream",
     "text": [
      "576/576 [==============================] - 28s 48ms/step - loss: 1.1459 - accuracy: 0.5812 - val_loss: 1.3313 - val_accuracy: 0.5799\n",
      "Epoch 13/20\n",
      "576/576 [==============================] - ETA: 0s - loss: 1.0852 - accuracy: 0.6172\n",
      "Epoch 00013: val_loss did not improve from 1.33132\n",
      "576/576 [==============================] - 25s 43ms/step - loss: 1.0852 - accuracy: 0.6172 - val_loss: 1.3522 - val_accuracy: 0.5625\n",
      "Epoch 14/20\n",
      "576/576 [==============================] - ETA: 0s - loss: 1.0525 - accuracy: 0.6356\n",
      "Epoch 00014: val_loss did not improve from 1.33132\n",
      "576/576 [==============================] - 24s 42ms/step - loss: 1.0525 - accuracy: 0.6356 - val_loss: 1.3643 - val_accuracy: 0.5486\n",
      "Epoch 15/20\n",
      "576/576 [==============================] - ETA: 0s - loss: 1.0053 - accuracy: 0.6526\n",
      "Epoch 00015: val_loss did not improve from 1.33132\n",
      "576/576 [==============================] - 25s 43ms/step - loss: 1.0053 - accuracy: 0.6526 - val_loss: 1.3562 - val_accuracy: 0.5764\n",
      "Epoch 16/20\n",
      "575/576 [============================>.] - ETA: 0s - loss: 0.9303 - accuracy: 0.6785 ETA: 4s - l\n",
      "Epoch 00016: val_loss did not improve from 1.33132\n",
      "576/576 [==============================] - 26s 46ms/step - loss: 0.9305 - accuracy: 0.6784 - val_loss: 1.4047 - val_accuracy: 0.5417\n",
      "Epoch 17/20\n",
      "575/576 [============================>.] - ETA: 0s - loss: 0.9116 - accuracy: 0.6865\n",
      "Epoch 00017: val_loss did not improve from 1.33132\n",
      "576/576 [==============================] - 26s 45ms/step - loss: 0.9107 - accuracy: 0.6871 - val_loss: 1.4170 - val_accuracy: 0.5417\n",
      "Epoch 18/20\n",
      "575/576 [============================>.] - ETA: 0s - loss: 0.8671 - accuracy: 0.7074\n",
      "Epoch 00018: val_loss did not improve from 1.33132\n",
      "576/576 [==============================] - 24s 42ms/step - loss: 0.8666 - accuracy: 0.7075 - val_loss: 1.4629 - val_accuracy: 0.5660\n",
      "Epoch 19/20\n",
      "576/576 [==============================] - ETA: 0s - loss: 0.8249 - accuracy: 0.7170\n",
      "Epoch 00019: val_loss did not improve from 1.33132\n",
      "576/576 [==============================] - 25s 43ms/step - loss: 0.8249 - accuracy: 0.7170 - val_loss: 1.5046 - val_accuracy: 0.5556\n",
      "Epoch 20/20\n",
      "576/576 [==============================] - ETA: 0s - loss: 0.7898 - accuracy: 0.7405\n",
      "Epoch 00020: val_loss did not improve from 1.33132\n",
      "576/576 [==============================] - 25s 44ms/step - loss: 0.7898 - accuracy: 0.7405 - val_loss: 1.5077 - val_accuracy: 0.5625\n"
     ]
    }
   ],
   "source": [
    "checkpoint = ModelCheckpoint('face_detector.h15', monitor= 'val_loss', mode= 'min', save_best_only = True, verbose= 1)\n",
    "\n",
    "# FIT MODEL\n",
    "model.compile(loss='categorical_crossentropy', optimizer=opt,metrics=['accuracy'])\n",
    "model_history=model.fit(X_train, y_train,batch_size=8, epochs=20, validation_data=(X_test, y_test),callbacks=checkpoint)"
   ]
  },
  {
   "cell_type": "code",
   "execution_count": 74,
   "id": "bfe0ba25",
   "metadata": {},
   "outputs": [
    {
     "name": "stdout",
     "output_type": "stream",
     "text": [
      "Saved model to disk\n"
     ]
    }
   ],
   "source": [
    "model.save_weights(\"ravdess_best_model_weights.h5\")\n",
    "model.save('best_model.h5')\n",
    "print(\"Saved model to disk\")"
   ]
  },
  {
   "cell_type": "code",
   "execution_count": 75,
   "id": "4c762bf8",
   "metadata": {},
   "outputs": [
    {
     "data": {
      "image/png": "[encoded data removed]",
      "text/plain": [
       "<Figure size 432x288 with 1 Axes>"
      ]
     },
     "metadata": {
      "needs_background": "light"
     },
     "output_type": "display_data"
    },
    {
     "data": {
      "image/png": "[encoded data removed]",
      "text/plain": [
       "<Figure size 432x288 with 1 Axes>"
      ]
     },
     "metadata": {
      "needs_background": "light"
     },
     "output_type": "display_data"
    }
   ],
   "source": [
    "# PRINT MODEL HISTORY OF ACCURACY AND LOSS OVER EPOCHS\n",
    "plt.plot(model_history.history['accuracy'])\n",
    "plt.plot(model_history.history['val_accuracy'])\n",
    "plt.title('model accuracy')\n",
    "plt.ylabel('accuracy')\n",
    "plt.xlabel('epoch')\n",
    "plt.legend(['train', 'test'], loc='upper left')\n",
    "plt.savefig('Augmented_Model_Accuracy.png')\n",
    "plt.show()\n",
    "# summarize history for loss\n",
    "plt.plot(model_history.history['loss'])\n",
    "plt.plot(model_history.history['val_loss'])\n",
    "plt.title('model loss')\n",
    "plt.ylabel('loss')\n",
    "plt.xlabel('epoch')\n",
    "plt.legend(['train', 'test'], loc='upper left')\n",
    "plt.savefig('Augmented_Model_Loss.png')\n",
    "plt.show()"
   ]
  },
  {
   "cell_type": "code",
   "execution_count": 76,
   "id": "f4622f30",
   "metadata": {},
   "outputs": [
    {
     "data": {
      "text/html": [
       "<div>\n",
       "<style scoped>\n",
       "    .dataframe tbody tr th:only-of-type {\n",
       "        vertical-align: middle;\n",
       "    }\n",
       "\n",
       "    .dataframe tbody tr th {\n",
       "        vertical-align: top;\n",
       "    }\n",
       "\n",
       "    .dataframe thead th {\n",
       "        text-align: right;\n",
       "    }\n",
       "</style>\n",
       "<table border=\"1\" class=\"dataframe\">\n",
       "  <thead>\n",
       "    <tr style=\"text-align: right;\">\n",
       "      <th></th>\n",
       "      <th>Actual Values</th>\n",
       "      <th>Predicted Values</th>\n",
       "    </tr>\n",
       "  </thead>\n",
       "  <tbody>\n",
       "    <tr>\n",
       "      <th>140</th>\n",
       "      <td>sad</td>\n",
       "      <td>sad</td>\n",
       "    </tr>\n",
       "    <tr>\n",
       "      <th>141</th>\n",
       "      <td>surprise</td>\n",
       "      <td>angry</td>\n",
       "    </tr>\n",
       "    <tr>\n",
       "      <th>142</th>\n",
       "      <td>neutral</td>\n",
       "      <td>calm</td>\n",
       "    </tr>\n",
       "    <tr>\n",
       "      <th>143</th>\n",
       "      <td>sad</td>\n",
       "      <td>sad</td>\n",
       "    </tr>\n",
       "    <tr>\n",
       "      <th>144</th>\n",
       "      <td>fear</td>\n",
       "      <td>surprise</td>\n",
       "    </tr>\n",
       "    <tr>\n",
       "      <th>145</th>\n",
       "      <td>sad</td>\n",
       "      <td>sad</td>\n",
       "    </tr>\n",
       "    <tr>\n",
       "      <th>146</th>\n",
       "      <td>disgust</td>\n",
       "      <td>disgust</td>\n",
       "    </tr>\n",
       "    <tr>\n",
       "      <th>147</th>\n",
       "      <td>angry</td>\n",
       "      <td>angry</td>\n",
       "    </tr>\n",
       "    <tr>\n",
       "      <th>148</th>\n",
       "      <td>surprise</td>\n",
       "      <td>surprise</td>\n",
       "    </tr>\n",
       "    <tr>\n",
       "      <th>149</th>\n",
       "      <td>angry</td>\n",
       "      <td>surprise</td>\n",
       "    </tr>\n",
       "  </tbody>\n",
       "</table>\n",
       "</div>"
      ],
      "text/plain": [
       "    Actual Values Predicted Values\n",
       "140           sad              sad\n",
       "141      surprise            angry\n",
       "142       neutral             calm\n",
       "143           sad              sad\n",
       "144          fear         surprise\n",
       "145           sad              sad\n",
       "146       disgust          disgust\n",
       "147         angry            angry\n",
       "148      surprise         surprise\n",
       "149         angry         surprise"
      ]
     },
     "execution_count": 76,
     "metadata": {},
     "output_type": "execute_result"
    }
   ],
   "source": [
    "# PREDICTION LABELS\n",
    "predictions = model.predict(X_test, batch_size=32)\n",
    "predictions=predictions.argmax(axis=1)\n",
    "predictions\n",
    "predictions = predictions.astype(int).flatten()\n",
    "predictions = (lb.inverse_transform((predictions)))\n",
    "predictions = pd.DataFrame({'Predicted Values': predictions})\n",
    "\n",
    "# ACTUAL LABELS\n",
    "actual=y_test.argmax(axis=1)\n",
    "actual = actual.astype(int).flatten()\n",
    "actual = (lb.inverse_transform((actual)))\n",
    "actual = pd.DataFrame({'Actual Values': actual})\n",
    "\n",
    "# COMBINE PREDICTION AND ACTUAL LABELS\n",
    "finaldf = actual.join(predictions)\n",
    "finaldf[140:150]"
   ]
  },
  {
   "cell_type": "code",
   "execution_count": 77,
   "id": "29995b83",
   "metadata": {},
   "outputs": [
    {
     "data": {
      "image/png": "[encoded data removed]",
      "text/plain": [
       "<Figure size 864x720 with 2 Axes>"
      ]
     },
     "metadata": {
      "needs_background": "light"
     },
     "output_type": "display_data"
    }
   ],
   "source": [
    "# CREATE CONFUSION MATRIX OF ACTUAL VS. PREDICTION \n",
    "cm = confusion_matrix(actual, predictions)\n",
    "plt.figure(figsize = (12, 10))\n",
    "cm = pd.DataFrame(cm , index = [i for i in lb.classes_] , columns = [i for i in lb.classes_])\n",
    "ax = sns.heatmap(cm, linecolor='white', cmap='Blues', linewidth=1, annot=True, fmt='')\n",
    "bottom, top = ax.get_ylim()\n",
    "ax.set_ylim(bottom + 0.5, top - 0.5)\n",
    "plt.title('Confusion Matrix', size=20)\n",
    "plt.xlabel('Predicted Labels', size=14)\n",
    "plt.ylabel('Actual Labels', size=14)\n",
    "plt.savefig('Augmented_Model_Confusion_Matrix.png')\n",
    "plt.show()"
   ]
  },
  {
   "cell_type": "code",
   "execution_count": 78,
   "id": "834a03fc",
   "metadata": {},
   "outputs": [
    {
     "name": "stdout",
     "output_type": "stream",
     "text": [
      "              precision    recall  f1-score   support\n",
      "\n",
      "       angry       0.61      0.69      0.65        39\n",
      "        calm       0.62      0.76      0.68        38\n",
      "     disgust       0.68      0.73      0.70        37\n",
      "        fear       0.49      0.47      0.48        38\n",
      "       happy       0.35      0.26      0.30        35\n",
      "     neutral       0.57      0.50      0.53        24\n",
      "         sad       0.47      0.37      0.41        38\n",
      "    surprise       0.60      0.67      0.63        39\n",
      "\n",
      "    accuracy                           0.56       288\n",
      "   macro avg       0.55      0.56      0.55       288\n",
      "weighted avg       0.55      0.56      0.55       288\n",
      "\n"
     ]
    }
   ],
   "source": [
    "from sklearn.metrics import classification_report\n",
    "print(classification_report(actual, predictions, target_names = ['angry','calm','disgust','fear','happy','neutral','sad','surprise']))"
   ]
  },
  {
   "cell_type": "code",
   "execution_count": null,
   "id": "bac3c0b9",
   "metadata": {},
   "outputs": [],
   "source": []
  }
 ],
 "metadata": {
  "kernelspec": {
   "display_name": "Python 3",
   "language": "python",
   "name": "python3"
  },
  "language_info": {
   "codemirror_mode": {
    "name": "ipython",
    "version": 3
   },
   "file_extension": ".py",
   "mimetype": "text/x-python",
   "name": "python",
   "nbconvert_exporter": "python",
   "pygments_lexer": "ipython3",
   "version": "3.8.8"
  }
 },
 "nbformat": 4,
 "nbformat_minor": 5
}
